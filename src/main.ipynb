{
 "cells": [
  {
   "cell_type": "markdown",
   "metadata": {},
   "source": [
    "# Pendahuluan\n",
    "\n",
    "Tujuan: Menentukan pemain sepakbola terbaik di dunia berdasarkan kriteria-kriteria tertentu\n",
    "\n",
    "Daftar kriteria penentuan pemain sepakbola terbaik di dunia:\n",
    "\n",
    "- Konsistensi (C1)\n",
    "- Goal dan assist (C2)\n",
    "- Kepemimpinan (C3)\n",
    "- Prestasi individu (C4)\n",
    "- Prestasi tim (C5)\n",
    "\n",
    "---"
   ]
  },
  {
   "cell_type": "code",
   "execution_count": 11,
   "metadata": {},
   "outputs": [],
   "source": [
    "import numpy as np"
   ]
  },
  {
   "cell_type": "markdown",
   "metadata": {},
   "source": [
    "# Pembuatan Tabel Perbandingan"
   ]
  },
  {
   "cell_type": "code",
   "execution_count": 18,
   "metadata": {},
   "outputs": [],
   "source": [
    "total_criteria = 5\n",
    "\n",
    "matrix = None"
   ]
  },
  {
   "cell_type": "code",
   "execution_count": null,
   "metadata": {},
   "outputs": [
    {
     "data": {
      "application/vnd.jupyter.widget-view+json": {
       "model_id": "8f8b31baab0445849fbbac41c6e51983",
       "version_major": 2,
       "version_minor": 0
      },
      "text/plain": [
       "HBox(children=(Label(value='', layout=Layout(width='50px')), Label(value='C1', layout=Layout(width='50px')), L…"
      ]
     },
     "metadata": {},
     "output_type": "display_data"
    },
    {
     "data": {
      "application/vnd.jupyter.widget-view+json": {
       "model_id": "968dd4fa50644f809d7c7a2fbe5d9e93",
       "version_major": 2,
       "version_minor": 0
      },
      "text/plain": [
       "HBox(children=(Label(value='C1', layout=Layout(width='50px')), FloatText(value=1.0, layout=Layout(width='50px'…"
      ]
     },
     "metadata": {},
     "output_type": "display_data"
    },
    {
     "data": {
      "application/vnd.jupyter.widget-view+json": {
       "model_id": "1c002d976808439e8434a82eb87a7602",
       "version_major": 2,
       "version_minor": 0
      },
      "text/plain": [
       "HBox(children=(Label(value='C2', layout=Layout(width='50px')), FloatText(value=0.0, layout=Layout(width='50px'…"
      ]
     },
     "metadata": {},
     "output_type": "display_data"
    },
    {
     "data": {
      "application/vnd.jupyter.widget-view+json": {
       "model_id": "41467bc8f87f4cecbeac13c338499354",
       "version_major": 2,
       "version_minor": 0
      },
      "text/plain": [
       "HBox(children=(Label(value='C3', layout=Layout(width='50px')), FloatText(value=0.0, layout=Layout(width='50px'…"
      ]
     },
     "metadata": {},
     "output_type": "display_data"
    },
    {
     "data": {
      "application/vnd.jupyter.widget-view+json": {
       "model_id": "d3d51628756c4324b83dfb1d512e1023",
       "version_major": 2,
       "version_minor": 0
      },
      "text/plain": [
       "HBox(children=(Label(value='C4', layout=Layout(width='50px')), FloatText(value=0.0, layout=Layout(width='50px'…"
      ]
     },
     "metadata": {},
     "output_type": "display_data"
    },
    {
     "data": {
      "application/vnd.jupyter.widget-view+json": {
       "model_id": "29b461dd42064e90a827165bd4e0d3eb",
       "version_major": 2,
       "version_minor": 0
      },
      "text/plain": [
       "HBox(children=(Label(value='C5', layout=Layout(width='50px')), FloatText(value=0.0, layout=Layout(width='50px'…"
      ]
     },
     "metadata": {},
     "output_type": "display_data"
    },
    {
     "data": {
      "application/vnd.jupyter.widget-view+json": {
       "model_id": "80daa4bcca7445e0a523e33d562e7277",
       "version_major": 2,
       "version_minor": 0
      },
      "text/plain": [
       "Button(description='Set Matrix!', style=ButtonStyle())"
      ]
     },
     "metadata": {},
     "output_type": "display_data"
    },
    {
     "name": "stdout",
     "output_type": "stream",
     "text": [
      "Entered Matrix:\n",
      "[[1. 0. 0. 0. 0.]\n",
      " [0. 1. 0. 0. 0.]\n",
      " [0. 0. 1. 0. 0.]\n",
      " [0. 0. 0. 1. 0.]\n",
      " [0. 0. 0. 0. 1.]]\n",
      "Entered Matrix:\n",
      "[[1.   5.   2.   5.   3.  ]\n",
      " [0.2  1.   2.   3.   0.2 ]\n",
      " [0.5  0.5  1.   7.   0.14]\n",
      " [0.2  0.33 0.14 1.   0.14]\n",
      " [0.33 5.   7.   7.   1.  ]]\n"
     ]
    }
   ],
   "source": [
    "import numpy as np\n",
    "import ipywidgets as widgets\n",
    "from IPython.display import display\n",
    "\n",
    "def create_matrix_form(rows, cols):\n",
    "    global matrix\n",
    "    # Generate labels (C1, C2, ...)\n",
    "    col_labels = [\"\"] + [f\"C{i+1}\" for i in range(cols)]\n",
    "    row_labels = [f\"C{i+1}\" for i in range(rows)]\n",
    "    \n",
    "    # Create input fields with diagonal elements pre-filled as 1\n",
    "    inputs = [[widgets.FloatText(value=(1 if r == c else 0), layout=widgets.Layout(width=\"50px\")) \n",
    "               for c in range(cols)] for r in range(rows)]\n",
    "\n",
    "    # Create the header row (Column Labels)\n",
    "    header_row = [widgets.Label(value=label, layout=widgets.Layout(width=\"50px\")) for label in col_labels]\n",
    "    \n",
    "    # Create rows with Row Labels and Input Fields\n",
    "    input_rows = []\n",
    "    for r in range(rows):\n",
    "        row_widgets = [widgets.Label(value=row_labels[r], layout=widgets.Layout(width=\"50px\"))] + inputs[r]\n",
    "        input_rows.append(widgets.HBox(row_widgets))\n",
    "\n",
    "    def get_matrix(_):\n",
    "        global matrix\n",
    "        matrix = np.array([[cell.value for cell in row] for row in inputs])\n",
    "        print(\"Entered Matrix:\")\n",
    "        print(matrix)\n",
    "\n",
    "    set_matrix_btn = widgets.Button(description=\"Set Matrix!\")\n",
    "    set_matrix_btn.on_click(get_matrix)\n",
    "\n",
    "    display(widgets.HBox(header_row))\n",
    "    for row in input_rows:\n",
    "        display(row)\n",
    "    display(set_matrix_btn)\n",
    "\n",
    "rows, cols = 5, 5\n",
    "create_matrix_form(rows, cols)\n"
   ]
  },
  {
   "cell_type": "markdown",
   "metadata": {},
   "source": [
    "Perhitungan total pada masing-masing kolom kriteria"
   ]
  },
  {
   "cell_type": "code",
   "execution_count": 28,
   "metadata": {},
   "outputs": [
    {
     "name": "stdout",
     "output_type": "stream",
     "text": [
      "[ 2.23 11.83 12.14 23.    4.48]\n"
     ]
    }
   ],
   "source": [
    "column_sums = np.sum(matrix, axis=0)\n",
    "print(column_sums)"
   ]
  },
  {
   "cell_type": "markdown",
   "metadata": {},
   "source": [
    "# Proses Normalisasi Data"
   ]
  },
  {
   "cell_type": "code",
   "execution_count": 31,
   "metadata": {},
   "outputs": [
    {
     "name": "stdout",
     "output_type": "stream",
     "text": [
      "Matriks hasil normalisasi\n",
      "[[0.44843049 0.42265427 0.16474465 0.2173913  0.66964286]\n",
      " [0.0896861  0.08453085 0.16474465 0.13043478 0.04464286]\n",
      " [0.22421525 0.04226543 0.08237232 0.30434783 0.03125   ]\n",
      " [0.0896861  0.02789518 0.01153213 0.04347826 0.03125   ]\n",
      " [0.14798206 0.42265427 0.57660626 0.30434783 0.22321429]]\n",
      "\n",
      "Total pada tiap-tiap baris kriteria\n",
      "[1.92286357 0.51403924 0.68445082 0.20384167 1.6748047 ]\n",
      "\n",
      "Nilai rata-rata dari PW (Priority Weight)\n",
      "[0.38457271 0.10280785 0.13689016 0.04076833 0.33496094]\n"
     ]
    }
   ],
   "source": [
    "normalization_matrix = matrix / column_sums\n",
    "\n",
    "print('Matriks hasil normalisasi')\n",
    "print(normalization_matrix)\n",
    "\n",
    "column_sums_normalization_matrix = np.sum(normalization_matrix, axis=1)\n",
    "print('\\nTotal pada tiap-tiap baris kriteria')\n",
    "print(column_sums_normalization_matrix)\n",
    "\n",
    "avg_priority_weights = column_sums_normalization_matrix / total_criteria\n",
    "print('\\nNilai rata-rata dari PW (Priority Weight)')\n",
    "print(avg_priority_weights)"
   ]
  },
  {
   "cell_type": "markdown",
   "metadata": {},
   "source": [
    "# Mengalikan Matriks dengan PW"
   ]
  },
  {
   "cell_type": "code",
   "execution_count": 33,
   "metadata": {},
   "outputs": [
    {
     "name": "stdout",
     "output_type": "stream",
     "text": [
      "[2.38111677 0.64279991 0.71285331 0.21766862 2.21951866]\n"
     ]
    }
   ],
   "source": [
    "new_matrix = matrix @ avg_priority_weights\n",
    "\n",
    "print(new_matrix)"
   ]
  },
  {
   "cell_type": "code",
   "execution_count": 34,
   "metadata": {},
   "outputs": [
    {
     "name": "stdout",
     "output_type": "stream",
     "text": [
      "[6.19159052 6.25244009 5.20748377 5.33915917 6.62620141]\n"
     ]
    }
   ],
   "source": [
    "val_b = new_matrix / avg_priority_weights\n",
    "print(val_b)"
   ]
  },
  {
   "cell_type": "markdown",
   "metadata": {},
   "source": [
    "# Menghitung Bobot Prioritas"
   ]
  },
  {
   "cell_type": "markdown",
   "metadata": {},
   "source": [
    "# Menghitung Nilai $\\lambda_{max}$"
   ]
  },
  {
   "cell_type": "code",
   "execution_count": 37,
   "metadata": {},
   "outputs": [
    {
     "name": "stdout",
     "output_type": "stream",
     "text": [
      "5.923374991658529\n"
     ]
    }
   ],
   "source": [
    "lambda_max = np.sum(val_b) / total_criteria\n",
    "\n",
    "print(lambda_max)"
   ]
  },
  {
   "cell_type": "markdown",
   "metadata": {},
   "source": [
    "# Menghitung Nilai Consistency Index (CI)"
   ]
  },
  {
   "cell_type": "code",
   "execution_count": 38,
   "metadata": {},
   "outputs": [
    {
     "name": "stdout",
     "output_type": "stream",
     "text": [
      "0.23084374791463236\n"
     ]
    }
   ],
   "source": [
    "consistency_index = (lambda_max - total_criteria) / (total_criteria - 1)\n",
    "\n",
    "print(consistency_index)"
   ]
  },
  {
   "cell_type": "markdown",
   "metadata": {},
   "source": [
    "# Perhitungan Consistency Ratio"
   ]
  },
  {
   "cell_type": "code",
   "execution_count": 40,
   "metadata": {},
   "outputs": [
    {
     "name": "stdout",
     "output_type": "stream",
     "text": [
      "0.20611048920949315\n"
     ]
    }
   ],
   "source": [
    "consistency_ratio = consistency_index / 1.12\n",
    "\n",
    "print(consistency_ratio)"
   ]
  },
  {
   "cell_type": "markdown",
   "metadata": {},
   "source": [
    "# Menghitung Perbandingan Pasangan untuk Setiap Alternatif/Pilihan pada Tiap Kriteria"
   ]
  },
  {
   "cell_type": "markdown",
   "metadata": {},
   "source": [
    "# Pengambilan Keputusan"
   ]
  }
 ],
 "metadata": {
  "kernelspec": {
   "display_name": "Python 3",
   "language": "python",
   "name": "python3"
  },
  "language_info": {
   "codemirror_mode": {
    "name": "ipython",
    "version": 3
   },
   "file_extension": ".py",
   "mimetype": "text/x-python",
   "name": "python",
   "nbconvert_exporter": "python",
   "pygments_lexer": "ipython3",
   "version": "3.12.3"
  }
 },
 "nbformat": 4,
 "nbformat_minor": 2
}

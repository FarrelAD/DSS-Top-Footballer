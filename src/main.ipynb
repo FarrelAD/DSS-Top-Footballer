{
 "cells": [
  {
   "cell_type": "markdown",
   "metadata": {},
   "source": [
    "# Pendahuluan\n",
    "\n",
    "Tujuan: Menentukan pemain sepakbola terbaik di dunia berdasarkan kriteria-kriteria tertentu\n",
    "\n",
    "Daftar kriteria penentuan pemain sepakbola terbaik di dunia:\n",
    "\n",
    "- Konsistensi (C1)\n",
    "- Prestasi tim (C2)\n",
    "- Goal dan assist (C3)\n",
    "- Kepemimpinan (C4)\n",
    "- Prestasi individu (C5)\n",
    "\n",
    "\n",
    "Pilihan:\n",
    "1. Jude Bellingham - Real Madrid\n",
    "2. Erling Haaland - Manchester City\n",
    "3. Pedri - Barcelona\n",
    "4. Vinicius Jr. -  Real Madrid\n",
    "\n",
    "---"
   ]
  },
  {
   "cell_type": "code",
   "execution_count": 11,
   "metadata": {},
   "outputs": [],
   "source": [
    "import numpy as np"
   ]
  },
  {
   "cell_type": "markdown",
   "metadata": {},
   "source": [
    "Helper function untuk menampilkan input form pembuatan matriks"
   ]
  },
  {
   "cell_type": "code",
   "execution_count": null,
   "metadata": {},
   "outputs": [],
   "source": [
    "import numpy as np\n",
    "import ipywidgets as widgets\n",
    "from IPython.display import display\n",
    "\n",
    "def create_matrix_form(rows, cols):\n",
    "    # Generate labels (C1, C2, ...)\n",
    "    col_labels = [\"\"] + [f\"C{i+1}\" for i in range(cols)]\n",
    "    row_labels = [f\"C{i+1}\" for i in range(rows)]\n",
    "    \n",
    "    # Create input fields with diagonal elements pre-filled as 1\n",
    "    inputs = [[widgets.FloatText(value=(1 if r == c else 0), layout=widgets.Layout(width=\"50px\")) \n",
    "               for c in range(cols)] for r in range(rows)]\n",
    "\n",
    "    # Create the header row (Column Labels)\n",
    "    header_row = [widgets.Label(value=label, layout=widgets.Layout(width=\"50px\")) for label in col_labels]\n",
    "    \n",
    "    # Create rows with Row Labels and Input Fields\n",
    "    input_rows = []\n",
    "    for r in range(rows):\n",
    "        row_widgets = [widgets.Label(value=row_labels[r], layout=widgets.Layout(width=\"50px\"))] + inputs[r]\n",
    "        input_rows.append(widgets.HBox(row_widgets))\n",
    "\n",
    "    def get_matrix():\n",
    "        return np.array([[cell.value for cell in row] for row in inputs])\n",
    "        \n",
    "    def update_matrix(_):\n",
    "        \"\"\"Updates and prints the matrix when the button is clicked.\"\"\"\n",
    "        updated_matrix = get_matrix()\n",
    "        print(\"Updated Matrix:\")\n",
    "        print(updated_matrix)\n",
    "\n",
    "    set_matrix_btn = widgets.Button(description=\"Set Matrix!\")\n",
    "    set_matrix_btn.on_click(update_matrix)\n",
    "\n",
    "    display(widgets.HBox(header_row))\n",
    "    for row in input_rows:\n",
    "        display(row)\n",
    "    display(set_matrix_btn)\n",
    "    \n",
    "    return get_matrix"
   ]
  },
  {
   "cell_type": "markdown",
   "metadata": {},
   "source": [
    "# Penentuan CR Kriteria"
   ]
  },
  {
   "cell_type": "markdown",
   "metadata": {},
   "source": [
    "## Pembuatan Tabel Perbandingan"
   ]
  },
  {
   "cell_type": "code",
   "execution_count": null,
   "metadata": {},
   "outputs": [],
   "source": [
    "total_criteria = 5"
   ]
  },
  {
   "cell_type": "code",
   "execution_count": 179,
   "metadata": {},
   "outputs": [
    {
     "data": {
      "application/vnd.jupyter.widget-view+json": {
       "model_id": "6d7f307a4762465d92d432c30efe5683",
       "version_major": 2,
       "version_minor": 0
      },
      "text/plain": [
       "HBox(children=(Label(value='', layout=Layout(width='50px')), Label(value='C1', layout=Layout(width='50px')), L…"
      ]
     },
     "metadata": {},
     "output_type": "display_data"
    },
    {
     "data": {
      "application/vnd.jupyter.widget-view+json": {
       "model_id": "4217de0dc6a84185a176460f2bcc73b9",
       "version_major": 2,
       "version_minor": 0
      },
      "text/plain": [
       "HBox(children=(Label(value='C1', layout=Layout(width='50px')), FloatText(value=1.0, layout=Layout(width='50px'…"
      ]
     },
     "metadata": {},
     "output_type": "display_data"
    },
    {
     "data": {
      "application/vnd.jupyter.widget-view+json": {
       "model_id": "6062630f77d64046b503fdeb2e7435a3",
       "version_major": 2,
       "version_minor": 0
      },
      "text/plain": [
       "HBox(children=(Label(value='C2', layout=Layout(width='50px')), FloatText(value=0.0, layout=Layout(width='50px'…"
      ]
     },
     "metadata": {},
     "output_type": "display_data"
    },
    {
     "data": {
      "application/vnd.jupyter.widget-view+json": {
       "model_id": "eefa38a44c014ec98f73461d00e73caf",
       "version_major": 2,
       "version_minor": 0
      },
      "text/plain": [
       "HBox(children=(Label(value='C3', layout=Layout(width='50px')), FloatText(value=0.0, layout=Layout(width='50px'…"
      ]
     },
     "metadata": {},
     "output_type": "display_data"
    },
    {
     "data": {
      "application/vnd.jupyter.widget-view+json": {
       "model_id": "74a06eecf9634d42bcfc110a3568853a",
       "version_major": 2,
       "version_minor": 0
      },
      "text/plain": [
       "HBox(children=(Label(value='C4', layout=Layout(width='50px')), FloatText(value=0.0, layout=Layout(width='50px'…"
      ]
     },
     "metadata": {},
     "output_type": "display_data"
    },
    {
     "data": {
      "application/vnd.jupyter.widget-view+json": {
       "model_id": "ee1dadc7886f4a1ab5bd758089933992",
       "version_major": 2,
       "version_minor": 0
      },
      "text/plain": [
       "HBox(children=(Label(value='C5', layout=Layout(width='50px')), FloatText(value=0.0, layout=Layout(width='50px'…"
      ]
     },
     "metadata": {},
     "output_type": "display_data"
    },
    {
     "data": {
      "application/vnd.jupyter.widget-view+json": {
       "model_id": "f1a51d4127f6427da4eef8c9305f8d50",
       "version_major": 2,
       "version_minor": 0
      },
      "text/plain": [
       "Button(description='Set Matrix!', style=ButtonStyle())"
      ]
     },
     "metadata": {},
     "output_type": "display_data"
    },
    {
     "name": "stdout",
     "output_type": "stream",
     "text": [
      "Updated Matrix:\n",
      "[[1.   3.   0.5  5.   0.33]\n",
      " [0.33 1.   0.2  0.33 0.2 ]\n",
      " [2.   5.   1.   3.   0.33]\n",
      " [0.2  3.   0.33 1.   0.14]\n",
      " [3.   5.   3.   7.   1.  ]]\n"
     ]
    }
   ],
   "source": [
    "criteria_matrix = create_matrix_form(rows=total_criteria, cols=total_criteria)"
   ]
  },
  {
   "cell_type": "markdown",
   "metadata": {},
   "source": [
    "Perhitungan total pada masing-masing kolom kriteria"
   ]
  },
  {
   "cell_type": "code",
   "execution_count": 183,
   "metadata": {},
   "outputs": [
    {
     "name": "stdout",
     "output_type": "stream",
     "text": [
      "[ 6.53 17.    5.03 16.33  2.  ]\n"
     ]
    }
   ],
   "source": [
    "column_sums = np.sum(criteria_matrix(), axis=0)\n",
    "print(column_sums)"
   ]
  },
  {
   "cell_type": "markdown",
   "metadata": {},
   "source": [
    "## Proses Normalisasi Data"
   ]
  },
  {
   "cell_type": "code",
   "execution_count": 184,
   "metadata": {},
   "outputs": [
    {
     "name": "stdout",
     "output_type": "stream",
     "text": [
      "Matriks hasil normalisasi\n",
      "[[0.15313936 0.17647059 0.09940358 0.30618494 0.165     ]\n",
      " [0.05053599 0.05882353 0.03976143 0.02020821 0.1       ]\n",
      " [0.30627871 0.29411765 0.19880716 0.18371096 0.165     ]\n",
      " [0.03062787 0.17647059 0.06560636 0.06123699 0.07      ]\n",
      " [0.45941807 0.29411765 0.59642147 0.42865891 0.5       ]]\n",
      "\n",
      "Total pada tiap-tiap baris kriteria\n",
      "[0.90019846 0.26932915 1.14791448 0.40394181 2.2786161 ]\n",
      "\n",
      "Nilai rata-rata dari PW (Priority Weight)\n",
      "[0.18003969 0.05386583 0.2295829  0.08078836 0.45572322]\n"
     ]
    }
   ],
   "source": [
    "normalization_matrix = criteria_matrix() / column_sums\n",
    "\n",
    "print('Matriks hasil normalisasi')\n",
    "print(normalization_matrix)\n",
    "\n",
    "column_sums_normalization_matrix = np.sum(normalization_matrix, axis=1)\n",
    "print('\\nTotal pada tiap-tiap baris kriteria')\n",
    "print(column_sums_normalization_matrix)\n",
    "\n",
    "avg_priority_weights = column_sums_normalization_matrix / total_criteria\n",
    "print('\\nNilai rata-rata dari PW (Priority Weight)')\n",
    "print(avg_priority_weights)"
   ]
  },
  {
   "cell_type": "markdown",
   "metadata": {},
   "source": [
    "## Mengalikan Matriks dengan PW"
   ]
  },
  {
   "cell_type": "code",
   "execution_count": 185,
   "metadata": {},
   "outputs": [
    {
     "name": "stdout",
     "output_type": "stream",
     "text": [
      "[1.0107591  0.27700031 1.25174518 0.4179574  2.51943867]\n"
     ]
    }
   ],
   "source": [
    "new_matrix = criteria_matrix() @ avg_priority_weights\n",
    "\n",
    "print(new_matrix)"
   ]
  },
  {
   "cell_type": "code",
   "execution_count": 186,
   "metadata": {},
   "outputs": [
    {
     "name": "stdout",
     "output_type": "stream",
     "text": [
      "[5.61409039 5.14241231 5.452258   5.17348527 5.52844042]\n"
     ]
    }
   ],
   "source": [
    "val_b = new_matrix / avg_priority_weights\n",
    "print(val_b)"
   ]
  },
  {
   "cell_type": "markdown",
   "metadata": {},
   "source": [
    "## Menghitung Bobot Prioritas"
   ]
  },
  {
   "cell_type": "markdown",
   "metadata": {},
   "source": [
    "## Menghitung Nilai $\\lambda_{max}$"
   ]
  },
  {
   "cell_type": "code",
   "execution_count": 187,
   "metadata": {},
   "outputs": [
    {
     "name": "stdout",
     "output_type": "stream",
     "text": [
      "5.382137277934705\n"
     ]
    }
   ],
   "source": [
    "lambda_max = np.sum(val_b) / total_criteria\n",
    "\n",
    "print(lambda_max)"
   ]
  },
  {
   "cell_type": "markdown",
   "metadata": {},
   "source": [
    "## Menghitung Nilai Consistency Index (CI)"
   ]
  },
  {
   "cell_type": "code",
   "execution_count": 188,
   "metadata": {},
   "outputs": [
    {
     "name": "stdout",
     "output_type": "stream",
     "text": [
      "0.09553431948367619\n"
     ]
    }
   ],
   "source": [
    "consistency_index = (lambda_max - total_criteria) / (total_criteria - 1)\n",
    "\n",
    "print(consistency_index)"
   ]
  },
  {
   "cell_type": "markdown",
   "metadata": {},
   "source": [
    "## Perhitungan Consistency Ratio"
   ]
  },
  {
   "cell_type": "code",
   "execution_count": 189,
   "metadata": {},
   "outputs": [
    {
     "name": "stdout",
     "output_type": "stream",
     "text": [
      "0.08529849953899658\n"
     ]
    }
   ],
   "source": [
    "consistency_ratio = consistency_index / 1.12\n",
    "\n",
    "print(consistency_ratio)"
   ]
  },
  {
   "cell_type": "markdown",
   "metadata": {},
   "source": [
    "# Menghitung Perbandingan Pasangan untuk Setiap Alternatif/Pilihan pada Tiap Kriteria"
   ]
  },
  {
   "cell_type": "code",
   "execution_count": 219,
   "metadata": {},
   "outputs": [],
   "source": [
    "total_option = 5"
   ]
  },
  {
   "cell_type": "markdown",
   "metadata": {},
   "source": [
    "## Consistency Ratio (CR) kriteria **Konsistensi**"
   ]
  },
  {
   "cell_type": "markdown",
   "metadata": {},
   "source": [
    "### Pembuatan Tabel Perbandingan"
   ]
  },
  {
   "cell_type": "code",
   "execution_count": null,
   "metadata": {},
   "outputs": [
    {
     "data": {
      "application/vnd.jupyter.widget-view+json": {
       "model_id": "20ea34c51ad34a9cbea24e1ac46a1276",
       "version_major": 2,
       "version_minor": 0
      },
      "text/plain": [
       "HBox(children=(Label(value='', layout=Layout(width='50px')), Label(value='C1', layout=Layout(width='50px')), L…"
      ]
     },
     "metadata": {},
     "output_type": "display_data"
    },
    {
     "data": {
      "application/vnd.jupyter.widget-view+json": {
       "model_id": "6c5e0f27b47f4ed883c27518d808539b",
       "version_major": 2,
       "version_minor": 0
      },
      "text/plain": [
       "HBox(children=(Label(value='C1', layout=Layout(width='50px')), FloatText(value=1.0, layout=Layout(width='50px'…"
      ]
     },
     "metadata": {},
     "output_type": "display_data"
    },
    {
     "data": {
      "application/vnd.jupyter.widget-view+json": {
       "model_id": "3aa0c8bda0f5496399a684051f071a95",
       "version_major": 2,
       "version_minor": 0
      },
      "text/plain": [
       "HBox(children=(Label(value='C2', layout=Layout(width='50px')), FloatText(value=0.0, layout=Layout(width='50px'…"
      ]
     },
     "metadata": {},
     "output_type": "display_data"
    },
    {
     "data": {
      "application/vnd.jupyter.widget-view+json": {
       "model_id": "be72e0a42a5a4e3187ee927f8ca540f6",
       "version_major": 2,
       "version_minor": 0
      },
      "text/plain": [
       "HBox(children=(Label(value='C3', layout=Layout(width='50px')), FloatText(value=0.0, layout=Layout(width='50px'…"
      ]
     },
     "metadata": {},
     "output_type": "display_data"
    },
    {
     "data": {
      "application/vnd.jupyter.widget-view+json": {
       "model_id": "38d455edaab148189d6641d080aa2e2d",
       "version_major": 2,
       "version_minor": 0
      },
      "text/plain": [
       "HBox(children=(Label(value='C4', layout=Layout(width='50px')), FloatText(value=0.0, layout=Layout(width='50px'…"
      ]
     },
     "metadata": {},
     "output_type": "display_data"
    },
    {
     "data": {
      "application/vnd.jupyter.widget-view+json": {
       "model_id": "7c9c6d4592404fdab905613d7d31a7a7",
       "version_major": 2,
       "version_minor": 0
      },
      "text/plain": [
       "HBox(children=(Label(value='C5', layout=Layout(width='50px')), FloatText(value=0.0, layout=Layout(width='50px'…"
      ]
     },
     "metadata": {},
     "output_type": "display_data"
    },
    {
     "data": {
      "application/vnd.jupyter.widget-view+json": {
       "model_id": "880d54d647b74f9a8f99c0926f860448",
       "version_major": 2,
       "version_minor": 0
      },
      "text/plain": [
       "Button(description='Set Matrix!', style=ButtonStyle())"
      ]
     },
     "metadata": {},
     "output_type": "display_data"
    },
    {
     "name": "stdout",
     "output_type": "stream",
     "text": [
      "Updated Matrix:\n",
      "[[1.   0.5  3.   7.   5.  ]\n",
      " [2.   1.   3.   7.   5.  ]\n",
      " [0.33 0.33 1.   5.   2.  ]\n",
      " [0.14 0.14 0.2  1.   0.2 ]\n",
      " [0.2  0.2  0.5  5.   1.  ]]\n",
      "Updated Matrix:\n",
      "[[1.   0.5  3.   7.   5.  ]\n",
      " [2.   1.   3.   9.   5.  ]\n",
      " [0.33 0.33 1.   5.   2.  ]\n",
      " [0.14 0.11 0.2  1.   0.2 ]\n",
      " [0.2  0.2  0.5  5.   1.  ]]\n"
     ]
    }
   ],
   "source": [
    "c1_matrix = create_matrix_form(rows=total_option, cols=total_option)"
   ]
  },
  {
   "cell_type": "code",
   "execution_count": 213,
   "metadata": {},
   "outputs": [
    {
     "name": "stdout",
     "output_type": "stream",
     "text": [
      "[ 3.67  2.14  7.7  27.   13.2 ]\n"
     ]
    }
   ],
   "source": [
    "column_sums_c1 = np.sum(c1_matrix(), axis=0)\n",
    "print(column_sums_c1)"
   ]
  },
  {
   "cell_type": "markdown",
   "metadata": {},
   "source": [
    "### Proses Normalisasi Data"
   ]
  },
  {
   "cell_type": "code",
   "execution_count": 214,
   "metadata": {},
   "outputs": [
    {
     "name": "stdout",
     "output_type": "stream",
     "text": [
      "Matriks hasil normalisasi\n",
      "[[0.15313936 0.02941176 0.59642147 0.42865891 2.5       ]\n",
      " [0.30627871 0.05882353 0.59642147 0.55113288 2.5       ]\n",
      " [0.05053599 0.01941176 0.19880716 0.30618494 1.        ]\n",
      " [0.02143951 0.00647059 0.03976143 0.06123699 0.1       ]\n",
      " [0.03062787 0.01176471 0.09940358 0.30618494 0.5       ]]\n",
      "\n",
      "Total pada tiap-tiap baris kriteria\n",
      "[3.7076315  4.0126566  1.57493985 0.22890852 0.94798109]\n",
      "\n",
      "Nilai rata-rata dari PW (Priority Weight)\n",
      "[0.7415263  0.80253132 0.31498797 0.0457817  0.18959622]\n"
     ]
    }
   ],
   "source": [
    "normalization_matrix_c1 = c1_matrix() / column_sums\n",
    "\n",
    "print('Matriks hasil normalisasi')\n",
    "print(normalization_matrix_c1)\n",
    "\n",
    "column_sums_normalization_matrix_c1 = np.sum(normalization_matrix_c1, axis=1)\n",
    "print('\\nTotal pada tiap-tiap baris kriteria')\n",
    "print(column_sums_normalization_matrix_c1)\n",
    "\n",
    "avg_priority_weights_c1 = column_sums_normalization_matrix_c1 / total_criteria\n",
    "print('\\nNilai rata-rata dari PW (Priority Weight)')\n",
    "print(avg_priority_weights_c1)"
   ]
  },
  {
   "cell_type": "markdown",
   "metadata": {},
   "source": [
    "### Mengalikan Matriks dengan PW"
   ]
  },
  {
   "cell_type": "code",
   "execution_count": 215,
   "metadata": {},
   "outputs": [
    {
     "name": "stdout",
     "output_type": "stream",
     "text": [
      "[3.35620888 4.59056425 1.43262794 0.33879067 0.88481024]\n",
      "[4.52608206 5.72010604 4.54819891 7.40013244 4.66681378]\n"
     ]
    }
   ],
   "source": [
    "new_matrix_c1 = c1_matrix() @ avg_priority_weights_c1\n",
    "\n",
    "print(new_matrix_c1)\n",
    "\n",
    "val_b_c1 = new_matrix_c1 / avg_priority_weights_c1\n",
    "print(val_b_c1)"
   ]
  },
  {
   "cell_type": "markdown",
   "metadata": {},
   "source": [
    "### Menghitung Bobot Prioritas"
   ]
  },
  {
   "cell_type": "markdown",
   "metadata": {},
   "source": [
    "### Menghitung Nilai $\\lambda_{max}$"
   ]
  },
  {
   "cell_type": "code",
   "execution_count": 216,
   "metadata": {},
   "outputs": [
    {
     "name": "stdout",
     "output_type": "stream",
     "text": [
      "5.372266644099153\n"
     ]
    }
   ],
   "source": [
    "lambda_max_c1 = np.sum(val_b_c1) / total_option\n",
    "\n",
    "print(lambda_max_c1)"
   ]
  },
  {
   "cell_type": "markdown",
   "metadata": {},
   "source": [
    "### Menghitung Nilai Consistency Index (CI)"
   ]
  },
  {
   "cell_type": "code",
   "execution_count": 217,
   "metadata": {},
   "outputs": [
    {
     "name": "stdout",
     "output_type": "stream",
     "text": [
      "0.09306666102478833\n"
     ]
    }
   ],
   "source": [
    "consistency_index_c1 = (lambda_max_c1 - total_option) / (total_option - 1)\n",
    "\n",
    "print(consistency_index_c1)"
   ]
  },
  {
   "cell_type": "markdown",
   "metadata": {},
   "source": [
    "### Menghitung Nilai Consistency Ratio (CR)"
   ]
  },
  {
   "cell_type": "code",
   "execution_count": 218,
   "metadata": {},
   "outputs": [
    {
     "name": "stdout",
     "output_type": "stream",
     "text": [
      "0.08309523305784672\n"
     ]
    }
   ],
   "source": [
    "consistency_ratio_c1 = consistency_index_c1 / 1.12\n",
    "\n",
    "print(consistency_ratio_c1)"
   ]
  },
  {
   "cell_type": "markdown",
   "metadata": {},
   "source": [
    "## Consistency Ratio (CR) Kriteria **Prestasi Tim**"
   ]
  },
  {
   "cell_type": "markdown",
   "metadata": {},
   "source": [
    "## Consistency Ratio (CR) Kriteria **Goal & Assist**"
   ]
  },
  {
   "cell_type": "markdown",
   "metadata": {},
   "source": [
    "## Consistency Ratio (CR) Kriteria **Kepemimpinan**"
   ]
  },
  {
   "cell_type": "markdown",
   "metadata": {},
   "source": [
    "## Consistency Ratio (CR) Kriteria **Prestasi Individu**"
   ]
  },
  {
   "cell_type": "markdown",
   "metadata": {},
   "source": [
    "# Pengambilan Keputusan"
   ]
  }
 ],
 "metadata": {
  "kernelspec": {
   "display_name": "Python 3",
   "language": "python",
   "name": "python3"
  },
  "language_info": {
   "codemirror_mode": {
    "name": "ipython",
    "version": 3
   },
   "file_extension": ".py",
   "mimetype": "text/x-python",
   "name": "python",
   "nbconvert_exporter": "python",
   "pygments_lexer": "ipython3",
   "version": "3.12.3"
  }
 },
 "nbformat": 4,
 "nbformat_minor": 2
}

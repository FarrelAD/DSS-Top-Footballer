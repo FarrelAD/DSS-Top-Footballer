{
 "cells": [
  {
   "cell_type": "markdown",
   "metadata": {},
   "source": [
    "# Pendahuluan\n",
    "\n",
    "Tujuan: Menentukan pemain sepakbola terbaik di dunia berdasarkan kriteria-kriteria tertentu\n",
    "\n",
    "Daftar kriteria penentuan pemain sepakbola terbaik di dunia:\n",
    "\n",
    "- Konsistensi (C1)\n",
    "- Prestasi tim (C2)\n",
    "- Goal dan assist (C3)\n",
    "- Kepemimpinan (C4)\n",
    "- Prestasi individu (C5)\n",
    "\n",
    "---"
   ]
  },
  {
   "cell_type": "code",
   "execution_count": 11,
   "metadata": {},
   "outputs": [],
   "source": [
    "import numpy as np"
   ]
  },
  {
   "cell_type": "markdown",
   "metadata": {},
   "source": [
    "# Penentuan CR Kriteria"
   ]
  },
  {
   "cell_type": "markdown",
   "metadata": {},
   "source": [
    "## Pembuatan Tabel Perbandingan"
   ]
  },
  {
   "cell_type": "code",
   "execution_count": 18,
   "metadata": {},
   "outputs": [],
   "source": [
    "total_criteria = 5\n",
    "\n",
    "matrix = None"
   ]
  },
  {
   "cell_type": "code",
   "execution_count": 161,
   "metadata": {},
   "outputs": [
    {
     "data": {
      "application/vnd.jupyter.widget-view+json": {
       "model_id": "e18c12c1ea4042d5872c75e11d21788a",
       "version_major": 2,
       "version_minor": 0
      },
      "text/plain": [
       "HBox(children=(Label(value='', layout=Layout(width='50px')), Label(value='C1', layout=Layout(width='50px')), L…"
      ]
     },
     "metadata": {},
     "output_type": "display_data"
    },
    {
     "data": {
      "application/vnd.jupyter.widget-view+json": {
       "model_id": "5c5b7e9f5e104253b76075d91bb57575",
       "version_major": 2,
       "version_minor": 0
      },
      "text/plain": [
       "HBox(children=(Label(value='C1', layout=Layout(width='50px')), FloatText(value=1.0, layout=Layout(width='50px'…"
      ]
     },
     "metadata": {},
     "output_type": "display_data"
    },
    {
     "data": {
      "application/vnd.jupyter.widget-view+json": {
       "model_id": "734ff5765ce442beb6a671eae24a2de2",
       "version_major": 2,
       "version_minor": 0
      },
      "text/plain": [
       "HBox(children=(Label(value='C2', layout=Layout(width='50px')), FloatText(value=0.0, layout=Layout(width='50px'…"
      ]
     },
     "metadata": {},
     "output_type": "display_data"
    },
    {
     "data": {
      "application/vnd.jupyter.widget-view+json": {
       "model_id": "715f69487d914ab3a1f896d32b9ccb7e",
       "version_major": 2,
       "version_minor": 0
      },
      "text/plain": [
       "HBox(children=(Label(value='C3', layout=Layout(width='50px')), FloatText(value=0.0, layout=Layout(width='50px'…"
      ]
     },
     "metadata": {},
     "output_type": "display_data"
    },
    {
     "data": {
      "application/vnd.jupyter.widget-view+json": {
       "model_id": "ddf27a9afbc44df7abab927424520f54",
       "version_major": 2,
       "version_minor": 0
      },
      "text/plain": [
       "HBox(children=(Label(value='C4', layout=Layout(width='50px')), FloatText(value=0.0, layout=Layout(width='50px'…"
      ]
     },
     "metadata": {},
     "output_type": "display_data"
    },
    {
     "data": {
      "application/vnd.jupyter.widget-view+json": {
       "model_id": "17ab1d9605c24234a82f6e4c59a494fb",
       "version_major": 2,
       "version_minor": 0
      },
      "text/plain": [
       "HBox(children=(Label(value='C5', layout=Layout(width='50px')), FloatText(value=0.0, layout=Layout(width='50px'…"
      ]
     },
     "metadata": {},
     "output_type": "display_data"
    },
    {
     "data": {
      "application/vnd.jupyter.widget-view+json": {
       "model_id": "e84a9b6d864640ed89bb61a03e9be4d2",
       "version_major": 2,
       "version_minor": 0
      },
      "text/plain": [
       "Button(description='Set Matrix!', style=ButtonStyle())"
      ]
     },
     "metadata": {},
     "output_type": "display_data"
    },
    {
     "name": "stdout",
     "output_type": "stream",
     "text": [
      "Entered Matrix:\n",
      "[[1.   3.   0.5  5.   0.33]\n",
      " [0.33 1.   0.2  0.33 0.2 ]\n",
      " [2.   5.   1.   3.   0.33]\n",
      " [0.2  3.   0.33 1.   0.14]\n",
      " [3.   5.   3.   7.   1.  ]]\n"
     ]
    }
   ],
   "source": [
    "import numpy as np\n",
    "import ipywidgets as widgets\n",
    "from IPython.display import display\n",
    "\n",
    "def create_matrix_form(rows, cols):\n",
    "    global matrix\n",
    "    # Generate labels (C1, C2, ...)\n",
    "    col_labels = [\"\"] + [f\"C{i+1}\" for i in range(cols)]\n",
    "    row_labels = [f\"C{i+1}\" for i in range(rows)]\n",
    "    \n",
    "    # Create input fields with diagonal elements pre-filled as 1\n",
    "    inputs = [[widgets.FloatText(value=(1 if r == c else 0), layout=widgets.Layout(width=\"50px\")) \n",
    "               for c in range(cols)] for r in range(rows)]\n",
    "\n",
    "    # Create the header row (Column Labels)\n",
    "    header_row = [widgets.Label(value=label, layout=widgets.Layout(width=\"50px\")) for label in col_labels]\n",
    "    \n",
    "    # Create rows with Row Labels and Input Fields\n",
    "    input_rows = []\n",
    "    for r in range(rows):\n",
    "        row_widgets = [widgets.Label(value=row_labels[r], layout=widgets.Layout(width=\"50px\"))] + inputs[r]\n",
    "        input_rows.append(widgets.HBox(row_widgets))\n",
    "\n",
    "    def get_matrix(_):\n",
    "        global matrix\n",
    "        matrix = np.array([[cell.value for cell in row] for row in inputs])\n",
    "        print(\"Entered Matrix:\")\n",
    "        print(matrix)\n",
    "\n",
    "    set_matrix_btn = widgets.Button(description=\"Set Matrix!\")\n",
    "    set_matrix_btn.on_click(get_matrix)\n",
    "\n",
    "    display(widgets.HBox(header_row))\n",
    "    for row in input_rows:\n",
    "        display(row)\n",
    "    display(set_matrix_btn)\n",
    "\n",
    "rows, cols = total_criteria, total_criteria\n",
    "create_matrix_form(rows, cols)\n"
   ]
  },
  {
   "cell_type": "markdown",
   "metadata": {},
   "source": [
    "Perhitungan total pada masing-masing kolom kriteria"
   ]
  },
  {
   "cell_type": "code",
   "execution_count": 162,
   "metadata": {},
   "outputs": [
    {
     "name": "stdout",
     "output_type": "stream",
     "text": [
      "[ 6.53 17.    5.03 16.33  2.  ]\n"
     ]
    }
   ],
   "source": [
    "column_sums = np.sum(matrix, axis=0)\n",
    "print(column_sums)"
   ]
  },
  {
   "cell_type": "markdown",
   "metadata": {},
   "source": [
    "## Proses Normalisasi Data"
   ]
  },
  {
   "cell_type": "code",
   "execution_count": 163,
   "metadata": {},
   "outputs": [
    {
     "name": "stdout",
     "output_type": "stream",
     "text": [
      "Matriks hasil normalisasi\n",
      "[[0.15313936 0.17647059 0.09940358 0.30618494 0.165     ]\n",
      " [0.05053599 0.05882353 0.03976143 0.02020821 0.1       ]\n",
      " [0.30627871 0.29411765 0.19880716 0.18371096 0.165     ]\n",
      " [0.03062787 0.17647059 0.06560636 0.06123699 0.07      ]\n",
      " [0.45941807 0.29411765 0.59642147 0.42865891 0.5       ]]\n",
      "\n",
      "Total pada tiap-tiap baris kriteria\n",
      "[0.90019846 0.26932915 1.14791448 0.40394181 2.2786161 ]\n",
      "\n",
      "Nilai rata-rata dari PW (Priority Weight)\n",
      "[0.18003969 0.05386583 0.2295829  0.08078836 0.45572322]\n"
     ]
    }
   ],
   "source": [
    "normalization_matrix = matrix / column_sums\n",
    "\n",
    "print('Matriks hasil normalisasi')\n",
    "print(normalization_matrix)\n",
    "\n",
    "column_sums_normalization_matrix = np.sum(normalization_matrix, axis=1)\n",
    "print('\\nTotal pada tiap-tiap baris kriteria')\n",
    "print(column_sums_normalization_matrix)\n",
    "\n",
    "avg_priority_weights = column_sums_normalization_matrix / total_criteria\n",
    "print('\\nNilai rata-rata dari PW (Priority Weight)')\n",
    "print(avg_priority_weights)"
   ]
  },
  {
   "cell_type": "markdown",
   "metadata": {},
   "source": [
    "## Mengalikan Matriks dengan PW"
   ]
  },
  {
   "cell_type": "code",
   "execution_count": 164,
   "metadata": {},
   "outputs": [
    {
     "name": "stdout",
     "output_type": "stream",
     "text": [
      "[1.0107591  0.27700031 1.25174518 0.4179574  2.51943867]\n"
     ]
    }
   ],
   "source": [
    "new_matrix = matrix @ avg_priority_weights\n",
    "\n",
    "print(new_matrix)"
   ]
  },
  {
   "cell_type": "code",
   "execution_count": 165,
   "metadata": {},
   "outputs": [
    {
     "name": "stdout",
     "output_type": "stream",
     "text": [
      "[5.61409039 5.14241231 5.452258   5.17348527 5.52844042]\n"
     ]
    }
   ],
   "source": [
    "val_b = new_matrix / avg_priority_weights\n",
    "print(val_b)"
   ]
  },
  {
   "cell_type": "markdown",
   "metadata": {},
   "source": [
    "## Menghitung Bobot Prioritas"
   ]
  },
  {
   "cell_type": "markdown",
   "metadata": {},
   "source": [
    "## Menghitung Nilai $\\lambda_{max}$"
   ]
  },
  {
   "cell_type": "code",
   "execution_count": 166,
   "metadata": {},
   "outputs": [
    {
     "name": "stdout",
     "output_type": "stream",
     "text": [
      "5.382137277934705\n"
     ]
    }
   ],
   "source": [
    "lambda_max = np.sum(val_b) / total_criteria\n",
    "\n",
    "print(lambda_max)"
   ]
  },
  {
   "cell_type": "markdown",
   "metadata": {},
   "source": [
    "## Menghitung Nilai Consistency Index (CI)"
   ]
  },
  {
   "cell_type": "code",
   "execution_count": 167,
   "metadata": {},
   "outputs": [
    {
     "name": "stdout",
     "output_type": "stream",
     "text": [
      "0.09553431948367619\n"
     ]
    }
   ],
   "source": [
    "consistency_index = (lambda_max - total_criteria) / (total_criteria - 1)\n",
    "\n",
    "print(consistency_index)"
   ]
  },
  {
   "cell_type": "markdown",
   "metadata": {},
   "source": [
    "## Perhitungan Consistency Ratio"
   ]
  },
  {
   "cell_type": "code",
   "execution_count": 168,
   "metadata": {},
   "outputs": [
    {
     "name": "stdout",
     "output_type": "stream",
     "text": [
      "0.08529849953899658\n"
     ]
    }
   ],
   "source": [
    "consistency_ratio = consistency_index / 1.12\n",
    "\n",
    "print(consistency_ratio)"
   ]
  },
  {
   "cell_type": "markdown",
   "metadata": {},
   "source": [
    "# Menghitung Perbandingan Pasangan untuk Setiap Alternatif/Pilihan pada Tiap Kriteria"
   ]
  },
  {
   "cell_type": "markdown",
   "metadata": {},
   "source": [
    "## Pembuatan Tabel Perbandingan"
   ]
  },
  {
   "cell_type": "markdown",
   "metadata": {},
   "source": [
    "## Proses Normalisasi Data"
   ]
  },
  {
   "cell_type": "markdown",
   "metadata": {},
   "source": [
    "## Mengalikan Matriks dengan PW"
   ]
  },
  {
   "cell_type": "markdown",
   "metadata": {},
   "source": [
    "## Menghitung Bobot Prioritas"
   ]
  },
  {
   "cell_type": "markdown",
   "metadata": {},
   "source": [
    "## Menghitung Nilai $\\lambda_{max}$"
   ]
  },
  {
   "cell_type": "markdown",
   "metadata": {},
   "source": [
    "## Menghitung Nilai Consistency Index (CI)"
   ]
  },
  {
   "cell_type": "markdown",
   "metadata": {},
   "source": [
    "# Menghitung Nilai Consistency Ratio (CR)"
   ]
  },
  {
   "cell_type": "markdown",
   "metadata": {},
   "source": [
    "# Pengambilan Keputusan"
   ]
  }
 ],
 "metadata": {
  "kernelspec": {
   "display_name": "Python 3",
   "language": "python",
   "name": "python3"
  },
  "language_info": {
   "codemirror_mode": {
    "name": "ipython",
    "version": 3
   },
   "file_extension": ".py",
   "mimetype": "text/x-python",
   "name": "python",
   "nbconvert_exporter": "python",
   "pygments_lexer": "ipython3",
   "version": "3.12.3"
  }
 },
 "nbformat": 4,
 "nbformat_minor": 2
}

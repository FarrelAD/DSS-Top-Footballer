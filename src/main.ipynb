{
 "cells": [
  {
   "cell_type": "markdown",
   "metadata": {},
   "source": [
    "# Pendahuluan\n",
    "\n",
    "Tujuan: Menentukan pemain sepakbola terbaik di dunia berdasarkan kriteria-kriteria tertentu\n",
    "\n",
    "Daftar kriteria penentuan pemain sepakbola terbaik di dunia:\n",
    "\n",
    "- Konsistensi (C1)\n",
    "- Prestasi tim (C2)\n",
    "- Goal dan assist (C3)\n",
    "- Kepemimpinan (C4)\n",
    "- Prestasi individu (C5)\n",
    "\n",
    "\n",
    "Pilihan:\n",
    "1. Jude Bellingham - Real Madrid\n",
    "2. Erling Haaland - Manchester City\n",
    "3. Kylian Mbappe - Real Madrid\n",
    "4. Pedri - Barcelona\n",
    "5. Vinicius Jr. -  Real Madrid\n",
    "\n",
    "---"
   ]
  },
  {
   "cell_type": "markdown",
   "metadata": {},
   "source": [
    "Helper function untuk menampilkan input form pembuatan matriks"
   ]
  },
  {
   "cell_type": "code",
   "execution_count": 3,
   "metadata": {},
   "outputs": [],
   "source": [
    "import numpy as np\n",
    "import ipywidgets as widgets\n",
    "from IPython.display import display\n",
    "\n",
    "def create_matrix_form(rows, cols):\n",
    "    # Generate labels (C1, C2, ...)\n",
    "    col_labels = [\"\"] + [f\"C{i+1}\" for i in range(cols)]\n",
    "    row_labels = [f\"C{i+1}\" for i in range(rows)]\n",
    "    \n",
    "    # Create input fields with diagonal elements pre-filled as 1\n",
    "    inputs = [[widgets.FloatText(value=(1 if r == c else 0), layout=widgets.Layout(width=\"50px\")) \n",
    "               for c in range(cols)] for r in range(rows)]\n",
    "\n",
    "    # Create the header row (Column Labels)\n",
    "    header_row = [widgets.Label(value=label, layout=widgets.Layout(width=\"50px\")) for label in col_labels]\n",
    "    \n",
    "    # Create rows with Row Labels and Input Fields\n",
    "    input_rows = []\n",
    "    for r in range(rows):\n",
    "        row_widgets = [widgets.Label(value=row_labels[r], layout=widgets.Layout(width=\"50px\"))] + inputs[r]\n",
    "        input_rows.append(widgets.HBox(row_widgets))\n",
    "\n",
    "    def get_matrix():\n",
    "        return np.array([[cell.value for cell in row] for row in inputs])\n",
    "        \n",
    "    def update_matrix(_):\n",
    "        \"\"\"Updates and prints the matrix when the button is clicked.\"\"\"\n",
    "        updated_matrix = get_matrix()\n",
    "        print(\"Updated Matrix:\")\n",
    "        print(updated_matrix)\n",
    "\n",
    "    set_matrix_btn = widgets.Button(description=\"Set Matrix!\")\n",
    "    set_matrix_btn.on_click(update_matrix)\n",
    "\n",
    "    display(widgets.HBox(header_row))\n",
    "    for row in input_rows:\n",
    "        display(row)\n",
    "    display(set_matrix_btn)\n",
    "    \n",
    "    return get_matrix"
   ]
  },
  {
   "cell_type": "markdown",
   "metadata": {},
   "source": [
    "# Penentuan CR Kriteria"
   ]
  },
  {
   "cell_type": "markdown",
   "metadata": {},
   "source": [
    "## Pembuatan Tabel Perbandingan"
   ]
  },
  {
   "cell_type": "code",
   "execution_count": 4,
   "metadata": {},
   "outputs": [],
   "source": [
    "total_criteria = 5"
   ]
  },
  {
   "cell_type": "code",
   "execution_count": 5,
   "metadata": {},
   "outputs": [
    {
     "data": {
      "application/vnd.jupyter.widget-view+json": {
       "model_id": "6618ff15d1ef44b6a20ed6216c22b771",
       "version_major": 2,
       "version_minor": 0
      },
      "text/plain": [
       "HBox(children=(Label(value='', layout=Layout(width='50px')), Label(value='C1', layout=Layout(width='50px')), L…"
      ]
     },
     "metadata": {},
     "output_type": "display_data"
    },
    {
     "data": {
      "application/vnd.jupyter.widget-view+json": {
       "model_id": "7fa3a0bfdb874e9fb4eaa2ff6a306ddd",
       "version_major": 2,
       "version_minor": 0
      },
      "text/plain": [
       "HBox(children=(Label(value='C1', layout=Layout(width='50px')), FloatText(value=1.0, layout=Layout(width='50px'…"
      ]
     },
     "metadata": {},
     "output_type": "display_data"
    },
    {
     "data": {
      "application/vnd.jupyter.widget-view+json": {
       "model_id": "ac2804f3583b4319bcc07662986245c4",
       "version_major": 2,
       "version_minor": 0
      },
      "text/plain": [
       "HBox(children=(Label(value='C2', layout=Layout(width='50px')), FloatText(value=0.0, layout=Layout(width='50px'…"
      ]
     },
     "metadata": {},
     "output_type": "display_data"
    },
    {
     "data": {
      "application/vnd.jupyter.widget-view+json": {
       "model_id": "a2d17e96cc604dc0b1dd5dd7818bc4be",
       "version_major": 2,
       "version_minor": 0
      },
      "text/plain": [
       "HBox(children=(Label(value='C3', layout=Layout(width='50px')), FloatText(value=0.0, layout=Layout(width='50px'…"
      ]
     },
     "metadata": {},
     "output_type": "display_data"
    },
    {
     "data": {
      "application/vnd.jupyter.widget-view+json": {
       "model_id": "a12305a9d9154df5ad69c01a07a4980d",
       "version_major": 2,
       "version_minor": 0
      },
      "text/plain": [
       "HBox(children=(Label(value='C4', layout=Layout(width='50px')), FloatText(value=0.0, layout=Layout(width='50px'…"
      ]
     },
     "metadata": {},
     "output_type": "display_data"
    },
    {
     "data": {
      "application/vnd.jupyter.widget-view+json": {
       "model_id": "0ec6042c1bd1449da0a1e11a04552533",
       "version_major": 2,
       "version_minor": 0
      },
      "text/plain": [
       "HBox(children=(Label(value='C5', layout=Layout(width='50px')), FloatText(value=0.0, layout=Layout(width='50px'…"
      ]
     },
     "metadata": {},
     "output_type": "display_data"
    },
    {
     "data": {
      "application/vnd.jupyter.widget-view+json": {
       "model_id": "0009182335014d4b8db590ee269bb84a",
       "version_major": 2,
       "version_minor": 0
      },
      "text/plain": [
       "Button(description='Set Matrix!', style=ButtonStyle())"
      ]
     },
     "metadata": {},
     "output_type": "display_data"
    }
   ],
   "source": [
    "criteria_matrix = create_matrix_form(rows=total_criteria, cols=total_criteria)"
   ]
  },
  {
   "cell_type": "markdown",
   "metadata": {},
   "source": [
    "Perhitungan total pada masing-masing kolom kriteria"
   ]
  },
  {
   "cell_type": "code",
   "execution_count": 6,
   "metadata": {},
   "outputs": [
    {
     "name": "stdout",
     "output_type": "stream",
     "text": [
      "[1. 1. 1. 1. 1.]\n"
     ]
    }
   ],
   "source": [
    "column_sums = np.sum(criteria_matrix(), axis=0)\n",
    "print(column_sums)"
   ]
  },
  {
   "cell_type": "markdown",
   "metadata": {},
   "source": [
    "## Proses Normalisasi Data"
   ]
  },
  {
   "cell_type": "code",
   "execution_count": 7,
   "metadata": {},
   "outputs": [
    {
     "name": "stdout",
     "output_type": "stream",
     "text": [
      "Matriks hasil normalisasi\n",
      "[[1. 0. 0. 0. 0.]\n",
      " [0. 1. 0. 0. 0.]\n",
      " [0. 0. 1. 0. 0.]\n",
      " [0. 0. 0. 1. 0.]\n",
      " [0. 0. 0. 0. 1.]]\n",
      "\n",
      "Total pada tiap-tiap baris kriteria\n",
      "[1. 1. 1. 1. 1.]\n",
      "\n",
      "Nilai rata-rata dari PW (Priority Weight)\n",
      "[0.2 0.2 0.2 0.2 0.2]\n"
     ]
    }
   ],
   "source": [
    "normalization_matrix = criteria_matrix() / column_sums\n",
    "\n",
    "print('Matriks hasil normalisasi')\n",
    "print(normalization_matrix)\n",
    "\n",
    "column_sums_normalization_matrix = np.sum(normalization_matrix, axis=1)\n",
    "print('\\nTotal pada tiap-tiap baris kriteria')\n",
    "print(column_sums_normalization_matrix)\n",
    "\n",
    "avg_priority_weights = column_sums_normalization_matrix / total_criteria\n",
    "print('\\nNilai rata-rata dari PW (Priority Weight)')\n",
    "print(avg_priority_weights)"
   ]
  },
  {
   "cell_type": "markdown",
   "metadata": {},
   "source": [
    "## Mengalikan Matriks dengan PW"
   ]
  },
  {
   "cell_type": "code",
   "execution_count": 8,
   "metadata": {},
   "outputs": [
    {
     "name": "stdout",
     "output_type": "stream",
     "text": [
      "[0.2 0.2 0.2 0.2 0.2]\n"
     ]
    }
   ],
   "source": [
    "new_matrix = criteria_matrix() @ avg_priority_weights\n",
    "\n",
    "print(new_matrix)"
   ]
  },
  {
   "cell_type": "code",
   "execution_count": 9,
   "metadata": {},
   "outputs": [
    {
     "name": "stdout",
     "output_type": "stream",
     "text": [
      "[1. 1. 1. 1. 1.]\n"
     ]
    }
   ],
   "source": [
    "val_b = new_matrix / avg_priority_weights\n",
    "print(val_b)"
   ]
  },
  {
   "cell_type": "markdown",
   "metadata": {},
   "source": [
    "## Menghitung Bobot Prioritas"
   ]
  },
  {
   "cell_type": "markdown",
   "metadata": {},
   "source": [
    "## Menghitung Nilai $\\lambda_{max}$"
   ]
  },
  {
   "cell_type": "code",
   "execution_count": 10,
   "metadata": {},
   "outputs": [
    {
     "name": "stdout",
     "output_type": "stream",
     "text": [
      "1.0\n"
     ]
    }
   ],
   "source": [
    "lambda_max = np.sum(val_b) / total_criteria\n",
    "\n",
    "print(lambda_max)"
   ]
  },
  {
   "cell_type": "markdown",
   "metadata": {},
   "source": [
    "## Menghitung Nilai Consistency Index (CI)"
   ]
  },
  {
   "cell_type": "code",
   "execution_count": 11,
   "metadata": {},
   "outputs": [
    {
     "name": "stdout",
     "output_type": "stream",
     "text": [
      "-1.0\n"
     ]
    }
   ],
   "source": [
    "consistency_index = (lambda_max - total_criteria) / (total_criteria - 1)\n",
    "\n",
    "print(consistency_index)"
   ]
  },
  {
   "cell_type": "markdown",
   "metadata": {},
   "source": [
    "## Perhitungan Consistency Ratio"
   ]
  },
  {
   "cell_type": "code",
   "execution_count": 12,
   "metadata": {},
   "outputs": [
    {
     "name": "stdout",
     "output_type": "stream",
     "text": [
      "-0.8928571428571428\n"
     ]
    }
   ],
   "source": [
    "consistency_ratio = consistency_index / 1.12\n",
    "\n",
    "print(consistency_ratio)"
   ]
  },
  {
   "cell_type": "markdown",
   "metadata": {},
   "source": [
    "# Menghitung Perbandingan Pasangan untuk Setiap Alternatif/Pilihan pada Tiap Kriteria"
   ]
  },
  {
   "cell_type": "code",
   "execution_count": 13,
   "metadata": {},
   "outputs": [],
   "source": [
    "total_option = 5"
   ]
  },
  {
   "cell_type": "markdown",
   "metadata": {},
   "source": [
    "## Consistency Ratio (CR) kriteria **Konsistensi**"
   ]
  },
  {
   "cell_type": "markdown",
   "metadata": {},
   "source": [
    "### Pembuatan Tabel Perbandingan"
   ]
  },
  {
   "cell_type": "code",
   "execution_count": 14,
   "metadata": {},
   "outputs": [
    {
     "data": {
      "application/vnd.jupyter.widget-view+json": {
       "model_id": "5b2921d6b46b4982a524d188895468d1",
       "version_major": 2,
       "version_minor": 0
      },
      "text/plain": [
       "HBox(children=(Label(value='', layout=Layout(width='50px')), Label(value='C1', layout=Layout(width='50px')), L…"
      ]
     },
     "metadata": {},
     "output_type": "display_data"
    },
    {
     "data": {
      "application/vnd.jupyter.widget-view+json": {
       "model_id": "ebec62623d8a4307a835a2fedf116f85",
       "version_major": 2,
       "version_minor": 0
      },
      "text/plain": [
       "HBox(children=(Label(value='C1', layout=Layout(width='50px')), FloatText(value=1.0, layout=Layout(width='50px'…"
      ]
     },
     "metadata": {},
     "output_type": "display_data"
    },
    {
     "data": {
      "application/vnd.jupyter.widget-view+json": {
       "model_id": "2f70cd9aa77a42c8b5a257d140892775",
       "version_major": 2,
       "version_minor": 0
      },
      "text/plain": [
       "HBox(children=(Label(value='C2', layout=Layout(width='50px')), FloatText(value=0.0, layout=Layout(width='50px'…"
      ]
     },
     "metadata": {},
     "output_type": "display_data"
    },
    {
     "data": {
      "application/vnd.jupyter.widget-view+json": {
       "model_id": "53f485a8d5154bc78b0fc2fbb38c5bbf",
       "version_major": 2,
       "version_minor": 0
      },
      "text/plain": [
       "HBox(children=(Label(value='C3', layout=Layout(width='50px')), FloatText(value=0.0, layout=Layout(width='50px'…"
      ]
     },
     "metadata": {},
     "output_type": "display_data"
    },
    {
     "data": {
      "application/vnd.jupyter.widget-view+json": {
       "model_id": "858d276f563b4f08a899616db76783b7",
       "version_major": 2,
       "version_minor": 0
      },
      "text/plain": [
       "HBox(children=(Label(value='C4', layout=Layout(width='50px')), FloatText(value=0.0, layout=Layout(width='50px'…"
      ]
     },
     "metadata": {},
     "output_type": "display_data"
    },
    {
     "data": {
      "application/vnd.jupyter.widget-view+json": {
       "model_id": "b359893d226a448d9a4340d26d9d262d",
       "version_major": 2,
       "version_minor": 0
      },
      "text/plain": [
       "HBox(children=(Label(value='C5', layout=Layout(width='50px')), FloatText(value=0.0, layout=Layout(width='50px'…"
      ]
     },
     "metadata": {},
     "output_type": "display_data"
    },
    {
     "data": {
      "application/vnd.jupyter.widget-view+json": {
       "model_id": "d343c1e016c3485d931323499a7fba31",
       "version_major": 2,
       "version_minor": 0
      },
      "text/plain": [
       "Button(description='Set Matrix!', style=ButtonStyle())"
      ]
     },
     "metadata": {},
     "output_type": "display_data"
    }
   ],
   "source": [
    "c1_matrix = create_matrix_form(rows=total_option, cols=total_option)"
   ]
  },
  {
   "cell_type": "code",
   "execution_count": 15,
   "metadata": {},
   "outputs": [
    {
     "name": "stdout",
     "output_type": "stream",
     "text": [
      "[1. 1. 1. 1. 1.]\n"
     ]
    }
   ],
   "source": [
    "column_sums_c1 = np.sum(c1_matrix(), axis=0)\n",
    "print(column_sums_c1)"
   ]
  },
  {
   "cell_type": "markdown",
   "metadata": {},
   "source": [
    "### Proses Normalisasi Data"
   ]
  },
  {
   "cell_type": "code",
   "execution_count": 16,
   "metadata": {},
   "outputs": [
    {
     "name": "stdout",
     "output_type": "stream",
     "text": [
      "Matriks hasil normalisasi\n",
      "[[1. 0. 0. 0. 0.]\n",
      " [0. 1. 0. 0. 0.]\n",
      " [0. 0. 1. 0. 0.]\n",
      " [0. 0. 0. 1. 0.]\n",
      " [0. 0. 0. 0. 1.]]\n",
      "\n",
      "Total pada tiap-tiap baris kriteria\n",
      "[1. 1. 1. 1. 1.]\n",
      "\n",
      "Nilai rata-rata dari PW (Priority Weight)\n",
      "[0.2 0.2 0.2 0.2 0.2]\n"
     ]
    }
   ],
   "source": [
    "normalization_matrix_c1 = c1_matrix() / column_sums_c1\n",
    "\n",
    "print('Matriks hasil normalisasi')\n",
    "print(normalization_matrix_c1)\n",
    "\n",
    "column_sums_normalization_matrix_c1 = np.sum(normalization_matrix_c1, axis=1)\n",
    "print('\\nTotal pada tiap-tiap baris kriteria')\n",
    "print(column_sums_normalization_matrix_c1)\n",
    "\n",
    "avg_priority_weights_c1 = column_sums_normalization_matrix_c1 / total_option\n",
    "print('\\nNilai rata-rata dari PW (Priority Weight)')\n",
    "print(avg_priority_weights_c1)"
   ]
  },
  {
   "cell_type": "markdown",
   "metadata": {},
   "source": [
    "### Mengalikan Matriks dengan PW"
   ]
  },
  {
   "cell_type": "code",
   "execution_count": 17,
   "metadata": {},
   "outputs": [
    {
     "name": "stdout",
     "output_type": "stream",
     "text": [
      "[0.2 0.2 0.2 0.2 0.2]\n",
      "[1. 1. 1. 1. 1.]\n"
     ]
    }
   ],
   "source": [
    "new_matrix_c1 = c1_matrix() @ avg_priority_weights_c1\n",
    "\n",
    "print(new_matrix_c1)\n",
    "\n",
    "val_b_c1 = new_matrix_c1 / avg_priority_weights_c1\n",
    "print(val_b_c1)"
   ]
  },
  {
   "cell_type": "markdown",
   "metadata": {},
   "source": [
    "### Menghitung Bobot Prioritas"
   ]
  },
  {
   "cell_type": "markdown",
   "metadata": {},
   "source": [
    "### Menghitung Nilai $\\lambda_{max}$"
   ]
  },
  {
   "cell_type": "code",
   "execution_count": 18,
   "metadata": {},
   "outputs": [
    {
     "name": "stdout",
     "output_type": "stream",
     "text": [
      "1.0\n"
     ]
    }
   ],
   "source": [
    "lambda_max_c1 = np.sum(val_b_c1) / total_option\n",
    "\n",
    "print(lambda_max_c1)"
   ]
  },
  {
   "cell_type": "markdown",
   "metadata": {},
   "source": [
    "### Menghitung Nilai Consistency Index (CI)"
   ]
  },
  {
   "cell_type": "code",
   "execution_count": 19,
   "metadata": {},
   "outputs": [
    {
     "name": "stdout",
     "output_type": "stream",
     "text": [
      "-1.0\n"
     ]
    }
   ],
   "source": [
    "consistency_index_c1 = (lambda_max_c1 - total_option) / (total_option - 1)\n",
    "\n",
    "print(consistency_index_c1)"
   ]
  },
  {
   "cell_type": "markdown",
   "metadata": {},
   "source": [
    "### Menghitung Nilai Consistency Ratio (CR)"
   ]
  },
  {
   "cell_type": "code",
   "execution_count": 20,
   "metadata": {},
   "outputs": [
    {
     "name": "stdout",
     "output_type": "stream",
     "text": [
      "-0.8928571428571428\n"
     ]
    }
   ],
   "source": [
    "consistency_ratio_c1 = consistency_index_c1 / 1.12\n",
    "\n",
    "print(consistency_ratio_c1)"
   ]
  },
  {
   "cell_type": "markdown",
   "metadata": {},
   "source": [
    "---"
   ]
  },
  {
   "cell_type": "markdown",
   "metadata": {},
   "source": [
    "## Consistency Ratio (CR) Kriteria **Prestasi Tim**"
   ]
  },
  {
   "cell_type": "markdown",
   "metadata": {},
   "source": [
    "### Pembuatan Tabel Perbandingan"
   ]
  },
  {
   "cell_type": "code",
   "execution_count": 21,
   "metadata": {},
   "outputs": [
    {
     "data": {
      "application/vnd.jupyter.widget-view+json": {
       "model_id": "3c9caf26f3d64769999447c56d80c52f",
       "version_major": 2,
       "version_minor": 0
      },
      "text/plain": [
       "HBox(children=(Label(value='', layout=Layout(width='50px')), Label(value='C1', layout=Layout(width='50px')), L…"
      ]
     },
     "metadata": {},
     "output_type": "display_data"
    },
    {
     "data": {
      "application/vnd.jupyter.widget-view+json": {
       "model_id": "ad703d49c58647a887564b5d46ea6ca4",
       "version_major": 2,
       "version_minor": 0
      },
      "text/plain": [
       "HBox(children=(Label(value='C1', layout=Layout(width='50px')), FloatText(value=1.0, layout=Layout(width='50px'…"
      ]
     },
     "metadata": {},
     "output_type": "display_data"
    },
    {
     "data": {
      "application/vnd.jupyter.widget-view+json": {
       "model_id": "0c0a1945021b4dcfbce60b914596e796",
       "version_major": 2,
       "version_minor": 0
      },
      "text/plain": [
       "HBox(children=(Label(value='C2', layout=Layout(width='50px')), FloatText(value=0.0, layout=Layout(width='50px'…"
      ]
     },
     "metadata": {},
     "output_type": "display_data"
    },
    {
     "data": {
      "application/vnd.jupyter.widget-view+json": {
       "model_id": "56d54746587d4ec5987e5a16a810c2df",
       "version_major": 2,
       "version_minor": 0
      },
      "text/plain": [
       "HBox(children=(Label(value='C3', layout=Layout(width='50px')), FloatText(value=0.0, layout=Layout(width='50px'…"
      ]
     },
     "metadata": {},
     "output_type": "display_data"
    },
    {
     "data": {
      "application/vnd.jupyter.widget-view+json": {
       "model_id": "84dd50213a7946829fb7e56fd37db61f",
       "version_major": 2,
       "version_minor": 0
      },
      "text/plain": [
       "HBox(children=(Label(value='C4', layout=Layout(width='50px')), FloatText(value=0.0, layout=Layout(width='50px'…"
      ]
     },
     "metadata": {},
     "output_type": "display_data"
    },
    {
     "data": {
      "application/vnd.jupyter.widget-view+json": {
       "model_id": "2921aab6c0e7412893d8faa8f8b2c164",
       "version_major": 2,
       "version_minor": 0
      },
      "text/plain": [
       "HBox(children=(Label(value='C5', layout=Layout(width='50px')), FloatText(value=0.0, layout=Layout(width='50px'…"
      ]
     },
     "metadata": {},
     "output_type": "display_data"
    },
    {
     "data": {
      "application/vnd.jupyter.widget-view+json": {
       "model_id": "f426ca1b12d94dbfb5ef506d5ba81e71",
       "version_major": 2,
       "version_minor": 0
      },
      "text/plain": [
       "Button(description='Set Matrix!', style=ButtonStyle())"
      ]
     },
     "metadata": {},
     "output_type": "display_data"
    }
   ],
   "source": [
    "c2_matrix = create_matrix_form(rows=total_option, cols=total_option)"
   ]
  },
  {
   "cell_type": "code",
   "execution_count": 22,
   "metadata": {},
   "outputs": [
    {
     "name": "stdout",
     "output_type": "stream",
     "text": [
      "[1. 1. 1. 1. 1.]\n"
     ]
    }
   ],
   "source": [
    "column_sums_c2 = np.sum(c2_matrix(), axis=0)\n",
    "print(column_sums_c2)"
   ]
  },
  {
   "cell_type": "markdown",
   "metadata": {},
   "source": [
    "### Proses Normalisasi Data"
   ]
  },
  {
   "cell_type": "code",
   "execution_count": 23,
   "metadata": {},
   "outputs": [
    {
     "name": "stdout",
     "output_type": "stream",
     "text": [
      "Matriks hasil normalisasi\n",
      "[[1. 0. 0. 0. 0.]\n",
      " [0. 1. 0. 0. 0.]\n",
      " [0. 0. 1. 0. 0.]\n",
      " [0. 0. 0. 1. 0.]\n",
      " [0. 0. 0. 0. 1.]]\n",
      "\n",
      "Total pada tiap-tiap baris kriteria\n",
      "[1. 1. 1. 1. 1.]\n",
      "\n",
      "Nilai rata-rata dari PW (Priority Weight)\n",
      "[0.2 0.2 0.2 0.2 0.2]\n"
     ]
    }
   ],
   "source": [
    "normalization_matrix_c2 = c2_matrix() / column_sums_c2\n",
    "\n",
    "print('Matriks hasil normalisasi')\n",
    "print(normalization_matrix_c2)\n",
    "\n",
    "column_sums_normalization_matrix_c2 = np.sum(normalization_matrix_c2, axis=1)\n",
    "print('\\nTotal pada tiap-tiap baris kriteria')\n",
    "print(column_sums_normalization_matrix_c2)\n",
    "\n",
    "avg_priority_weights_c2 = column_sums_normalization_matrix_c2 / total_option\n",
    "print('\\nNilai rata-rata dari PW (Priority Weight)')\n",
    "print(avg_priority_weights_c2)"
   ]
  },
  {
   "cell_type": "markdown",
   "metadata": {},
   "source": [
    "### Mengalikan Matriks dengan PW"
   ]
  },
  {
   "cell_type": "code",
   "execution_count": 24,
   "metadata": {},
   "outputs": [
    {
     "name": "stdout",
     "output_type": "stream",
     "text": [
      "[0.2 0.2 0.2 0.2 0.2]\n",
      "[1. 1. 1. 1. 1.]\n"
     ]
    }
   ],
   "source": [
    "new_matrix_c2 = c2_matrix() @ avg_priority_weights_c2\n",
    "\n",
    "print(new_matrix_c2)\n",
    "\n",
    "val_b_c2 = new_matrix_c2 / avg_priority_weights_c2\n",
    "print(val_b_c2)"
   ]
  },
  {
   "cell_type": "markdown",
   "metadata": {},
   "source": [
    "### Menghitung Bobot Prioritas"
   ]
  },
  {
   "cell_type": "markdown",
   "metadata": {},
   "source": [
    "### Menghitung Nilai $\\lambda_{max}$"
   ]
  },
  {
   "cell_type": "code",
   "execution_count": 25,
   "metadata": {},
   "outputs": [
    {
     "name": "stdout",
     "output_type": "stream",
     "text": [
      "1.0\n"
     ]
    }
   ],
   "source": [
    "lambda_max_c2 = np.sum(val_b_c2) / total_option\n",
    "\n",
    "print(lambda_max_c2)"
   ]
  },
  {
   "cell_type": "markdown",
   "metadata": {},
   "source": [
    "### Menghitung Nilai Consistency Index (CI)"
   ]
  },
  {
   "cell_type": "code",
   "execution_count": 26,
   "metadata": {},
   "outputs": [
    {
     "name": "stdout",
     "output_type": "stream",
     "text": [
      "-1.0\n"
     ]
    }
   ],
   "source": [
    "consistency_index_c2 = (lambda_max_c2 - total_option) / (total_option - 1)\n",
    "\n",
    "print(consistency_index_c2)"
   ]
  },
  {
   "cell_type": "markdown",
   "metadata": {},
   "source": [
    "### Menghitung Nilai Consistency Ratio (CR)"
   ]
  },
  {
   "cell_type": "code",
   "execution_count": 27,
   "metadata": {},
   "outputs": [
    {
     "name": "stdout",
     "output_type": "stream",
     "text": [
      "-0.8928571428571428\n"
     ]
    }
   ],
   "source": [
    "consistency_ratio_c2 = consistency_index_c2 / 1.12\n",
    "\n",
    "print(consistency_ratio_c2)"
   ]
  },
  {
   "cell_type": "markdown",
   "metadata": {},
   "source": [
    "---"
   ]
  },
  {
   "cell_type": "markdown",
   "metadata": {},
   "source": [
    "## Consistency Ratio (CR) Kriteria **Goal & Assist**"
   ]
  },
  {
   "cell_type": "markdown",
   "metadata": {},
   "source": [
    "### Pembuatan Tabel Perbandingan"
   ]
  },
  {
   "cell_type": "code",
   "execution_count": 76,
   "metadata": {},
   "outputs": [
    {
     "data": {
      "application/vnd.jupyter.widget-view+json": {
       "model_id": "e9f22d35bb8241acad00a1c2c0f879c0",
       "version_major": 2,
       "version_minor": 0
      },
      "text/plain": [
       "HBox(children=(Label(value='', layout=Layout(width='50px')), Label(value='C1', layout=Layout(width='50px')), L…"
      ]
     },
     "metadata": {},
     "output_type": "display_data"
    },
    {
     "data": {
      "application/vnd.jupyter.widget-view+json": {
       "model_id": "3af8e03b265c42858245835256bba079",
       "version_major": 2,
       "version_minor": 0
      },
      "text/plain": [
       "HBox(children=(Label(value='C1', layout=Layout(width='50px')), FloatText(value=1.0, layout=Layout(width='50px'…"
      ]
     },
     "metadata": {},
     "output_type": "display_data"
    },
    {
     "data": {
      "application/vnd.jupyter.widget-view+json": {
       "model_id": "45ee520ccf3f4b79ac759d718568fa80",
       "version_major": 2,
       "version_minor": 0
      },
      "text/plain": [
       "HBox(children=(Label(value='C2', layout=Layout(width='50px')), FloatText(value=0.0, layout=Layout(width='50px'…"
      ]
     },
     "metadata": {},
     "output_type": "display_data"
    },
    {
     "data": {
      "application/vnd.jupyter.widget-view+json": {
       "model_id": "ea590ef4389b44d2860bbabd767d048e",
       "version_major": 2,
       "version_minor": 0
      },
      "text/plain": [
       "HBox(children=(Label(value='C3', layout=Layout(width='50px')), FloatText(value=0.0, layout=Layout(width='50px'…"
      ]
     },
     "metadata": {},
     "output_type": "display_data"
    },
    {
     "data": {
      "application/vnd.jupyter.widget-view+json": {
       "model_id": "769da387eeeb433f8f00e22df4d3d7c9",
       "version_major": 2,
       "version_minor": 0
      },
      "text/plain": [
       "HBox(children=(Label(value='C4', layout=Layout(width='50px')), FloatText(value=0.0, layout=Layout(width='50px'…"
      ]
     },
     "metadata": {},
     "output_type": "display_data"
    },
    {
     "data": {
      "application/vnd.jupyter.widget-view+json": {
       "model_id": "f59c5f1da4a544b78b651b42601ed803",
       "version_major": 2,
       "version_minor": 0
      },
      "text/plain": [
       "HBox(children=(Label(value='C5', layout=Layout(width='50px')), FloatText(value=0.0, layout=Layout(width='50px'…"
      ]
     },
     "metadata": {},
     "output_type": "display_data"
    },
    {
     "data": {
      "application/vnd.jupyter.widget-view+json": {
       "model_id": "8eaa9e98eca4460db1a7314be316f086",
       "version_major": 2,
       "version_minor": 0
      },
      "text/plain": [
       "Button(description='Set Matrix!', style=ButtonStyle())"
      ]
     },
     "metadata": {},
     "output_type": "display_data"
    },
    {
     "name": "stdout",
     "output_type": "stream",
     "text": [
      "Updated Matrix:\n",
      "[[1.   5.   6.   7.   2.  ]\n",
      " [0.2  1.   3.   5.   0.5 ]\n",
      " [0.16 0.33 1.   3.   0.2 ]\n",
      " [0.14 0.2  0.3  1.   0.16]\n",
      " [0.5  2.   5.   6.   1.  ]]\n"
     ]
    }
   ],
   "source": [
    "c3_matrix = create_matrix_form(rows=total_option, cols=total_option)"
   ]
  },
  {
   "cell_type": "code",
   "execution_count": 83,
   "metadata": {},
   "outputs": [
    {
     "name": "stdout",
     "output_type": "stream",
     "text": [
      "[ 2.    8.53 15.3  22.    3.86]\n"
     ]
    }
   ],
   "source": [
    "column_sums_c3 = np.sum(c3_matrix(), axis=0)\n",
    "print(column_sums_c3)"
   ]
  },
  {
   "cell_type": "markdown",
   "metadata": {},
   "source": [
    "### Proses Normalisasi Data"
   ]
  },
  {
   "cell_type": "code",
   "execution_count": 84,
   "metadata": {},
   "outputs": [
    {
     "name": "stdout",
     "output_type": "stream",
     "text": [
      "Matriks hasil normalisasi\n",
      "[[0.5        0.58616647 0.39215686 0.31818182 0.51813472]\n",
      " [0.1        0.11723329 0.19607843 0.22727273 0.12953368]\n",
      " [0.08       0.03868699 0.06535948 0.13636364 0.05181347]\n",
      " [0.07       0.02344666 0.01960784 0.04545455 0.04145078]\n",
      " [0.25       0.23446659 0.32679739 0.27272727 0.25906736]]\n",
      "\n",
      "Total pada tiap-tiap baris kriteria\n",
      "[2.31463987 0.77011813 0.37222357 0.19995982 1.3430586 ]\n",
      "\n",
      "Nilai rata-rata dari PW (Priority Weight)\n",
      "[0.46292797 0.15402363 0.07444471 0.03999196 0.26861172]\n"
     ]
    }
   ],
   "source": [
    "normalization_matrix_c3 = c3_matrix() / column_sums_c3\n",
    "\n",
    "print('Matriks hasil normalisasi')\n",
    "print(normalization_matrix_c3)\n",
    "\n",
    "column_sums_normalization_matrix_c3 = np.sum(normalization_matrix_c3, axis=1)\n",
    "print('\\nTotal pada tiap-tiap baris kriteria')\n",
    "print(column_sums_normalization_matrix_c3)\n",
    "\n",
    "avg_priority_weights_c3 = column_sums_normalization_matrix_c3 / total_option\n",
    "print('\\nNilai rata-rata dari PW (Priority Weight)')\n",
    "print(avg_priority_weights_c3)"
   ]
  },
  {
   "cell_type": "markdown",
   "metadata": {},
   "source": [
    "### Mengalikan Matriks dengan PW"
   ]
  },
  {
   "cell_type": "code",
   "execution_count": 85,
   "metadata": {},
   "outputs": [
    {
     "name": "stdout",
     "output_type": "stream",
     "text": [
      "[2.49688159 0.80420905 0.37303923 0.2009179  1.42029832]\n",
      "[5.39367187 5.22133564 5.0109565  5.0239566  5.28755155]\n"
     ]
    }
   ],
   "source": [
    "new_matrix_c3 = c3_matrix() @ avg_priority_weights_c3\n",
    "\n",
    "print(new_matrix_c3)\n",
    "\n",
    "val_b_c3 = new_matrix_c3 / avg_priority_weights_c3\n",
    "print(val_b_c3)"
   ]
  },
  {
   "cell_type": "markdown",
   "metadata": {},
   "source": [
    "### Menghitung Bobot Prioritas"
   ]
  },
  {
   "cell_type": "markdown",
   "metadata": {},
   "source": [
    "### Menghitung Nilai $\\lambda_{max}$"
   ]
  },
  {
   "cell_type": "code",
   "execution_count": 86,
   "metadata": {},
   "outputs": [
    {
     "name": "stdout",
     "output_type": "stream",
     "text": [
      "5.187494432761653\n"
     ]
    }
   ],
   "source": [
    "lambda_max_c3 = np.sum(val_b_c3) / total_option\n",
    "\n",
    "print(lambda_max_c3)"
   ]
  },
  {
   "cell_type": "markdown",
   "metadata": {},
   "source": [
    "### Menghitung Nilai Consistency Index (CI)"
   ]
  },
  {
   "cell_type": "code",
   "execution_count": 87,
   "metadata": {},
   "outputs": [
    {
     "name": "stdout",
     "output_type": "stream",
     "text": [
      "0.04687360819041331\n"
     ]
    }
   ],
   "source": [
    "consistency_index_c3 = (lambda_max_c3 - total_option) / (total_option - 1)\n",
    "\n",
    "print(consistency_index_c3)"
   ]
  },
  {
   "cell_type": "markdown",
   "metadata": {},
   "source": [
    "### Menghitung Nilai Consistency Ratio (CR)"
   ]
  },
  {
   "cell_type": "code",
   "execution_count": 88,
   "metadata": {},
   "outputs": [
    {
     "name": "stdout",
     "output_type": "stream",
     "text": [
      "0.04185143588429759\n"
     ]
    }
   ],
   "source": [
    "consistency_ratio_c3 = consistency_index_c3 / 1.12\n",
    "\n",
    "print(consistency_ratio_c3)"
   ]
  },
  {
   "cell_type": "markdown",
   "metadata": {},
   "source": [
    "## Consistency Ratio (CR) Kriteria **Kepemimpinan**"
   ]
  },
  {
   "cell_type": "markdown",
   "metadata": {},
   "source": [
    "### Pembuatan Tabel Perbandingan"
   ]
  },
  {
   "cell_type": "code",
   "execution_count": null,
   "metadata": {},
   "outputs": [
    {
     "data": {
      "application/vnd.jupyter.widget-view+json": {
       "model_id": "06c9887d517b4096b9cfc574beb0d48e",
       "version_major": 2,
       "version_minor": 0
      },
      "text/plain": [
       "HBox(children=(Label(value='', layout=Layout(width='50px')), Label(value='C1', layout=Layout(width='50px')), L…"
      ]
     },
     "metadata": {},
     "output_type": "display_data"
    },
    {
     "data": {
      "application/vnd.jupyter.widget-view+json": {
       "model_id": "e9dbb3753c7747d4aac55b5ff4356cfa",
       "version_major": 2,
       "version_minor": 0
      },
      "text/plain": [
       "HBox(children=(Label(value='C1', layout=Layout(width='50px')), FloatText(value=1.0, layout=Layout(width='50px'…"
      ]
     },
     "metadata": {},
     "output_type": "display_data"
    },
    {
     "data": {
      "application/vnd.jupyter.widget-view+json": {
       "model_id": "23c9468c1b4c496899e98d4c914f2d5e",
       "version_major": 2,
       "version_minor": 0
      },
      "text/plain": [
       "HBox(children=(Label(value='C2', layout=Layout(width='50px')), FloatText(value=0.0, layout=Layout(width='50px'…"
      ]
     },
     "metadata": {},
     "output_type": "display_data"
    },
    {
     "data": {
      "application/vnd.jupyter.widget-view+json": {
       "model_id": "21c8a83e7ab04979a7155093e5529dfc",
       "version_major": 2,
       "version_minor": 0
      },
      "text/plain": [
       "HBox(children=(Label(value='C3', layout=Layout(width='50px')), FloatText(value=0.0, layout=Layout(width='50px'…"
      ]
     },
     "metadata": {},
     "output_type": "display_data"
    },
    {
     "data": {
      "application/vnd.jupyter.widget-view+json": {
       "model_id": "ad5081b2554b4b9d8a26b14b11dfd3f0",
       "version_major": 2,
       "version_minor": 0
      },
      "text/plain": [
       "HBox(children=(Label(value='C4', layout=Layout(width='50px')), FloatText(value=0.0, layout=Layout(width='50px'…"
      ]
     },
     "metadata": {},
     "output_type": "display_data"
    },
    {
     "data": {
      "application/vnd.jupyter.widget-view+json": {
       "model_id": "a9b6b291211d4ecd8ea61d204185f850",
       "version_major": 2,
       "version_minor": 0
      },
      "text/plain": [
       "HBox(children=(Label(value='C5', layout=Layout(width='50px')), FloatText(value=0.0, layout=Layout(width='50px'…"
      ]
     },
     "metadata": {},
     "output_type": "display_data"
    },
    {
     "data": {
      "application/vnd.jupyter.widget-view+json": {
       "model_id": "739503e296bf4794aebc642156e5f460",
       "version_major": 2,
       "version_minor": 0
      },
      "text/plain": [
       "Button(description='Set Matrix!', style=ButtonStyle())"
      ]
     },
     "metadata": {},
     "output_type": "display_data"
    },
    {
     "name": "stdout",
     "output_type": "stream",
     "text": [
      "Updated Matrix:\n",
      "[[1.   3.   4.   7.   9.  ]\n",
      " [0.25 1.   0.33 5.   6.  ]\n",
      " [0.2  3.   1.   0.2  0.7 ]\n",
      " [0.14 0.2  5.   1.   2.  ]\n",
      " [0.11 0.16 7.   0.5  1.  ]]\n",
      "Updated Matrix:\n",
      "[[1.   3.   4.   5.   7.  ]\n",
      " [0.33 1.   0.33 5.   6.  ]\n",
      " [0.25 3.   1.   0.2  0.14]\n",
      " [0.2  0.2  5.   1.   2.  ]\n",
      " [0.14 0.16 7.   0.5  1.  ]]\n",
      "Updated Matrix:\n",
      "[[1.   4.   2.   5.   7.  ]\n",
      " [0.25 1.   0.33 5.   6.  ]\n",
      " [0.5  3.   1.   0.2  0.14]\n",
      " [0.2  0.2  5.   1.   2.  ]\n",
      " [0.14 0.16 7.   0.5  1.  ]]\n",
      "Updated Matrix:\n",
      "[[1.   4.   2.   5.   7.  ]\n",
      " [0.25 1.   0.5  3.   5.  ]\n",
      " [0.5  2.   1.   0.2  0.14]\n",
      " [0.2  0.33 5.   1.   2.  ]\n",
      " [0.14 0.2  7.   0.5  1.  ]]\n",
      "Updated Matrix:\n",
      "[[1.   4.   2.   5.   6.  ]\n",
      " [0.25 1.   0.5  3.   5.  ]\n",
      " [0.5  2.   1.   0.2  0.14]\n",
      " [0.2  0.33 5.   1.   2.  ]\n",
      " [0.16 0.2  7.   0.5  1.  ]]\n",
      "Updated Matrix:\n",
      "[[1.   4.   2.   5.   6.  ]\n",
      " [0.25 1.   0.5  2.   4.  ]\n",
      " [0.5  2.   1.   0.2  0.14]\n",
      " [0.2  0.5  5.   1.   3.  ]\n",
      " [0.16 0.25 7.   0.33 1.  ]]\n",
      "Updated Matrix:\n",
      "[[1.   3.   2.   4.   5.  ]\n",
      " [0.33 1.   0.5  2.   3.  ]\n",
      " [0.5  2.   1.   0.25 0.2 ]\n",
      " [0.25 0.5  4.   1.   2.  ]\n",
      " [0.2  0.33 5.   0.5  1.  ]]\n",
      "Updated Matrix:\n",
      "[[1.     3.5    1.5    4.     5.    ]\n",
      " [0.2857 1.     0.5    2.     3.    ]\n",
      " [0.6667 2.     1.     0.25   0.2   ]\n",
      " [0.25   0.5    4.     1.     2.    ]\n",
      " [0.2    0.33   5.     0.5    1.    ]]\n",
      "Updated Matrix:\n",
      "[[1.     3.5    1.5    4.     5.    ]\n",
      " [0.2857 1.     0.5    1.5    3.    ]\n",
      " [0.6667 2.     1.     0.25   0.2   ]\n",
      " [0.25   0.6667 4.     1.     2.    ]\n",
      " [0.2    0.33   5.     0.5    1.    ]]\n",
      "Updated Matrix:\n",
      "[[1.     3.5    1.5    4.     5.    ]\n",
      " [0.2857 1.     0.5    1.5    3.    ]\n",
      " [0.6667 2.     1.     0.33   0.2   ]\n",
      " [0.25   0.6667 3.     1.     2.    ]\n",
      " [0.2    0.33   5.     0.5    1.    ]]\n",
      "Updated Matrix:\n",
      "[[1.     2.     1.5    4.     5.    ]\n",
      " [0.5    1.     0.5    1.5    3.    ]\n",
      " [0.6667 2.     1.     0.33   0.2   ]\n",
      " [0.25   0.6667 3.     1.     2.    ]\n",
      " [0.2    0.33   5.     0.5    1.    ]]\n",
      "Updated Matrix:\n",
      "[[1.     2.     1.5    3.     5.    ]\n",
      " [0.5    1.     0.5    1.5    3.    ]\n",
      " [0.33   2.     1.     0.33   0.2   ]\n",
      " [0.25   0.6667 3.     1.     2.    ]\n",
      " [0.2    0.33   5.     0.5    1.    ]]\n",
      "Updated Matrix:\n",
      "[[1.     2.     1.5    3.     4.    ]\n",
      " [0.5    1.     0.5    1.5    3.    ]\n",
      " [0.66   2.     1.     0.33   0.2   ]\n",
      " [0.33   0.6667 3.     1.     2.    ]\n",
      " [0.25   0.33   5.     0.5    1.    ]]\n",
      "Updated Matrix:\n",
      "[[1.   2.   1.5  3.   4.  ]\n",
      " [0.5  1.   0.5  1.5  2.  ]\n",
      " [0.66 2.   1.   0.33 0.2 ]\n",
      " [0.33 0.66 3.   1.   2.  ]\n",
      " [0.25 0.5  5.   0.5  1.  ]]\n",
      "Updated Matrix:\n",
      "[[1.   2.   1.5  2.5  3.  ]\n",
      " [0.5  1.   0.5  1.5  2.  ]\n",
      " [0.66 2.   1.   0.33 0.2 ]\n",
      " [0.4  0.66 3.   1.   2.  ]\n",
      " [0.33 0.5  5.   0.5  1.  ]]\n",
      "Updated Matrix:\n",
      "[[1.   2.   1.5  2.5  3.  ]\n",
      " [0.5  1.   0.5  1.5  2.  ]\n",
      " [0.66 2.   1.   0.5  0.33]\n",
      " [0.4  0.66 2.   1.   2.  ]\n",
      " [0.33 0.5  3.   0.5  1.  ]]\n",
      "Updated Matrix:\n",
      "[[1.   2.   1.5  2.5  3.  ]\n",
      " [0.5  1.   0.5  1.5  2.  ]\n",
      " [0.66 2.   1.   0.66 0.33]\n",
      " [0.4  0.66 1.5  1.   2.  ]\n",
      " [0.33 0.5  3.   0.5  1.  ]]\n",
      "Updated Matrix:\n",
      "[[1.   2.   1.5  2.5  3.  ]\n",
      " [0.5  1.   0.5  1.5  2.  ]\n",
      " [0.66 2.   1.   0.66 0.5 ]\n",
      " [0.4  0.66 1.5  1.   2.  ]\n",
      " [0.33 0.5  2.   0.5  1.  ]]\n"
     ]
    }
   ],
   "source": [
    "c4_matrix = create_matrix_form(rows=total_option, cols=total_option)"
   ]
  },
  {
   "cell_type": "code",
   "execution_count": 160,
   "metadata": {},
   "outputs": [
    {
     "name": "stdout",
     "output_type": "stream",
     "text": [
      "[2.89 6.16 6.5  6.16 8.5 ]\n"
     ]
    }
   ],
   "source": [
    "column_sums_c4 = np.sum(c4_matrix(), axis=0)\n",
    "print(column_sums_c4)"
   ]
  },
  {
   "cell_type": "markdown",
   "metadata": {},
   "source": [
    "### Proses Normalisasi Data"
   ]
  },
  {
   "cell_type": "code",
   "execution_count": 161,
   "metadata": {},
   "outputs": [
    {
     "name": "stdout",
     "output_type": "stream",
     "text": [
      "Matriks hasil normalisasi\n",
      "[[0.34602076 0.32467532 0.23076923 0.40584416 0.35294118]\n",
      " [0.17301038 0.16233766 0.07692308 0.24350649 0.23529412]\n",
      " [0.2283737  0.32467532 0.15384615 0.10714286 0.05882353]\n",
      " [0.1384083  0.10714286 0.23076923 0.16233766 0.23529412]\n",
      " [0.11418685 0.08116883 0.30769231 0.08116883 0.11764706]]\n",
      "\n",
      "Total pada tiap-tiap baris kriteria\n",
      "[1.66025065 0.89107173 0.87286157 0.87395217 0.70186388]\n",
      "\n",
      "Nilai rata-rata dari PW (Priority Weight)\n",
      "[0.33205013 0.17821435 0.17457231 0.17479043 0.14037278]\n"
     ]
    }
   ],
   "source": [
    "normalization_matrix_c4 = c4_matrix() / column_sums_c4\n",
    "\n",
    "print('Matriks hasil normalisasi')\n",
    "print(normalization_matrix_c4)\n",
    "\n",
    "column_sums_normalization_matrix_c4 = np.sum(normalization_matrix_c4, axis=1)\n",
    "print('\\nTotal pada tiap-tiap baris kriteria')\n",
    "print(column_sums_normalization_matrix_c4)\n",
    "\n",
    "avg_priority_weights_c4 = column_sums_normalization_matrix_c4 / total_option\n",
    "print('\\nNilai rata-rata dari PW (Priority Weight)')\n",
    "print(avg_priority_weights_c4)"
   ]
  },
  {
   "cell_type": "markdown",
   "metadata": {},
   "source": [
    "### Mengalikan Matriks dengan PW"
   ]
  },
  {
   "cell_type": "code",
   "execution_count": 162,
   "metadata": {},
   "outputs": [
    {
     "name": "stdout",
     "output_type": "stream",
     "text": [
      "[1.80843171 0.97445677 0.93570217 0.96783598 0.77559634]\n",
      "[5.4462611  5.46789185 5.35996887 5.5371221  5.52526179]\n"
     ]
    }
   ],
   "source": [
    "new_matrix_c4 = c4_matrix() @ avg_priority_weights_c4\n",
    "\n",
    "print(new_matrix_c4)\n",
    "\n",
    "val_b_c4 = new_matrix_c4 / avg_priority_weights_c4\n",
    "print(val_b_c4)"
   ]
  },
  {
   "cell_type": "markdown",
   "metadata": {},
   "source": [
    "### Menghitung Bobot Prioritas"
   ]
  },
  {
   "cell_type": "markdown",
   "metadata": {},
   "source": [
    "### Menghitung Nilai $\\lambda_{max}$"
   ]
  },
  {
   "cell_type": "code",
   "execution_count": 163,
   "metadata": {},
   "outputs": [
    {
     "name": "stdout",
     "output_type": "stream",
     "text": [
      "5.467301144110351\n"
     ]
    }
   ],
   "source": [
    "lambda_max_c4 = np.sum(val_b_c4) / total_option\n",
    "\n",
    "print(lambda_max_c4)"
   ]
  },
  {
   "cell_type": "markdown",
   "metadata": {},
   "source": [
    "### Menghitung Nilai Consistency Index (CI)"
   ]
  },
  {
   "cell_type": "code",
   "execution_count": 164,
   "metadata": {},
   "outputs": [
    {
     "name": "stdout",
     "output_type": "stream",
     "text": [
      "0.1168252860275878\n"
     ]
    }
   ],
   "source": [
    "consistency_index_c4 = (lambda_max_c4 - total_option) / (total_option - 1)\n",
    "\n",
    "print(consistency_index_c4)"
   ]
  },
  {
   "cell_type": "markdown",
   "metadata": {},
   "source": [
    "### Menghitung Nilai Consistency Ratio (CR)"
   ]
  },
  {
   "cell_type": "code",
   "execution_count": 165,
   "metadata": {},
   "outputs": [
    {
     "name": "stdout",
     "output_type": "stream",
     "text": [
      "0.10430829109606052\n"
     ]
    }
   ],
   "source": [
    "consistency_ratio_c4 = consistency_index_c4 / 1.12\n",
    "\n",
    "print(consistency_ratio_c4)"
   ]
  },
  {
   "cell_type": "markdown",
   "metadata": {},
   "source": [
    "---"
   ]
  },
  {
   "cell_type": "markdown",
   "metadata": {},
   "source": [
    "## Consistency Ratio (CR) Kriteria **Prestasi Individu**"
   ]
  },
  {
   "cell_type": "markdown",
   "metadata": {},
   "source": [
    "### Pembuatan Tabel Perbandingan"
   ]
  },
  {
   "cell_type": "code",
   "execution_count": null,
   "metadata": {},
   "outputs": [
    {
     "data": {
      "application/vnd.jupyter.widget-view+json": {
       "model_id": "3269b5a799584ca88f996bd36ecda992",
       "version_major": 2,
       "version_minor": 0
      },
      "text/plain": [
       "HBox(children=(Label(value='', layout=Layout(width='50px')), Label(value='C1', layout=Layout(width='50px')), L…"
      ]
     },
     "metadata": {},
     "output_type": "display_data"
    },
    {
     "data": {
      "application/vnd.jupyter.widget-view+json": {
       "model_id": "53c2960f468045efbfecea7b0802f2f6",
       "version_major": 2,
       "version_minor": 0
      },
      "text/plain": [
       "HBox(children=(Label(value='C1', layout=Layout(width='50px')), FloatText(value=1.0, layout=Layout(width='50px'…"
      ]
     },
     "metadata": {},
     "output_type": "display_data"
    },
    {
     "data": {
      "application/vnd.jupyter.widget-view+json": {
       "model_id": "e0821b095c514157afec9c25834d2fea",
       "version_major": 2,
       "version_minor": 0
      },
      "text/plain": [
       "HBox(children=(Label(value='C2', layout=Layout(width='50px')), FloatText(value=0.0, layout=Layout(width='50px'…"
      ]
     },
     "metadata": {},
     "output_type": "display_data"
    },
    {
     "data": {
      "application/vnd.jupyter.widget-view+json": {
       "model_id": "e61efc0937234b86b6d27d110d32caa7",
       "version_major": 2,
       "version_minor": 0
      },
      "text/plain": [
       "HBox(children=(Label(value='C3', layout=Layout(width='50px')), FloatText(value=0.0, layout=Layout(width='50px'…"
      ]
     },
     "metadata": {},
     "output_type": "display_data"
    },
    {
     "data": {
      "application/vnd.jupyter.widget-view+json": {
       "model_id": "5dba731497a6480182f1896454a189b5",
       "version_major": 2,
       "version_minor": 0
      },
      "text/plain": [
       "HBox(children=(Label(value='C4', layout=Layout(width='50px')), FloatText(value=0.0, layout=Layout(width='50px'…"
      ]
     },
     "metadata": {},
     "output_type": "display_data"
    },
    {
     "data": {
      "application/vnd.jupyter.widget-view+json": {
       "model_id": "763a919153c64c25a979b48bfde83a2e",
       "version_major": 2,
       "version_minor": 0
      },
      "text/plain": [
       "HBox(children=(Label(value='C5', layout=Layout(width='50px')), FloatText(value=0.0, layout=Layout(width='50px'…"
      ]
     },
     "metadata": {},
     "output_type": "display_data"
    },
    {
     "data": {
      "application/vnd.jupyter.widget-view+json": {
       "model_id": "db9c665de2594c52827268e9f6146ed1",
       "version_major": 2,
       "version_minor": 0
      },
      "text/plain": [
       "Button(description='Set Matrix!', style=ButtonStyle())"
      ]
     },
     "metadata": {},
     "output_type": "display_data"
    },
    {
     "name": "stdout",
     "output_type": "stream",
     "text": [
      "Updated Matrix:\n",
      "[[1.   3.   5.   7.   6.  ]\n",
      " [0.33 1.   3.   6.   5.  ]\n",
      " [0.2  0.33 1.   6.   4.  ]\n",
      " [0.14 0.16 0.16 1.   0.2 ]\n",
      " [0.16 0.2  0.25 5.   1.  ]]\n",
      "Updated Matrix:\n",
      "[[1.   3.   5.   9.   6.  ]\n",
      " [0.33 1.   3.   6.   5.  ]\n",
      " [0.2  0.33 1.   6.   4.  ]\n",
      " [0.19 0.16 0.16 1.   0.2 ]\n",
      " [0.16 0.2  0.25 5.   1.  ]]\n",
      "Updated Matrix:\n",
      "[[1.   3.   5.   7.   6.  ]\n",
      " [0.33 1.   3.   7.   5.  ]\n",
      " [0.2  0.33 1.   6.   4.  ]\n",
      " [0.14 0.14 0.16 1.   0.2 ]\n",
      " [0.16 0.2  0.25 5.   1.  ]]\n",
      "Updated Matrix:\n",
      "[[1.   3.   5.   7.   6.  ]\n",
      " [0.33 1.   3.   7.   5.  ]\n",
      " [0.2  0.33 1.   6.   2.  ]\n",
      " [0.14 0.14 0.16 1.   0.2 ]\n",
      " [0.16 0.2  0.5  5.   1.  ]]\n"
     ]
    }
   ],
   "source": [
    "c5_matrix = create_matrix_form(rows=total_option, cols=total_option)"
   ]
  },
  {
   "cell_type": "code",
   "execution_count": 185,
   "metadata": {},
   "outputs": [
    {
     "name": "stdout",
     "output_type": "stream",
     "text": [
      "[ 1.83  4.67  9.66 26.   14.2 ]\n"
     ]
    }
   ],
   "source": [
    "column_sums_c5 = np.sum(c5_matrix(), axis=0)\n",
    "print(column_sums_c5)"
   ]
  },
  {
   "cell_type": "markdown",
   "metadata": {},
   "source": [
    "### Proses Normalisasi Data"
   ]
  },
  {
   "cell_type": "code",
   "execution_count": 186,
   "metadata": {},
   "outputs": [
    {
     "name": "stdout",
     "output_type": "stream",
     "text": [
      "Matriks hasil normalisasi\n",
      "[[0.54644809 0.64239829 0.51759834 0.26923077 0.42253521]\n",
      " [0.18032787 0.21413276 0.31055901 0.26923077 0.35211268]\n",
      " [0.10928962 0.07066381 0.10351967 0.23076923 0.14084507]\n",
      " [0.07650273 0.02997859 0.01656315 0.03846154 0.01408451]\n",
      " [0.08743169 0.04282655 0.05175983 0.19230769 0.07042254]]\n",
      "\n",
      "Total pada tiap-tiap baris kriteria\n",
      "[2.3982107  1.32636308 0.6550874  0.17559051 0.44474831]\n",
      "\n",
      "Nilai rata-rata dari PW (Priority Weight)\n",
      "[0.47964214 0.26527262 0.13101748 0.0351181  0.08894966]\n"
     ]
    }
   ],
   "source": [
    "normalization_matrix_c5 = c5_matrix() / column_sums_c5\n",
    "\n",
    "print('Matriks hasil normalisasi')\n",
    "print(normalization_matrix_c5)\n",
    "\n",
    "column_sums_normalization_matrix_c5 = np.sum(normalization_matrix_c5, axis=1)\n",
    "print('\\nTotal pada tiap-tiap baris kriteria')\n",
    "print(column_sums_normalization_matrix_c5)\n",
    "\n",
    "avg_priority_weights_c5 = column_sums_normalization_matrix_c5 / total_option\n",
    "print('\\nNilai rata-rata dari PW (Priority Weight)')\n",
    "print(avg_priority_weights_c5)"
   ]
  },
  {
   "cell_type": "markdown",
   "metadata": {},
   "source": [
    "### Mengalikan Matriks dengan PW"
   ]
  },
  {
   "cell_type": "code",
   "execution_count": 187,
   "metadata": {},
   "outputs": [
    {
     "name": "stdout",
     "output_type": "stream",
     "text": [
      "[2.71007207 1.50718199 0.70309381 0.1781589  0.45984618]\n",
      "[5.65019595 5.68163426 5.36641225 5.07313567 5.16973499]\n"
     ]
    }
   ],
   "source": [
    "new_matrix_c5 = c5_matrix() @ avg_priority_weights_c5\n",
    "\n",
    "print(new_matrix_c5)\n",
    "\n",
    "val_b_c5 = new_matrix_c5 / avg_priority_weights_c5\n",
    "print(val_b_c5)"
   ]
  },
  {
   "cell_type": "markdown",
   "metadata": {},
   "source": [
    "### Menghitung Bobot Prioritas"
   ]
  },
  {
   "cell_type": "markdown",
   "metadata": {},
   "source": [
    "### Menghitung Nilai $\\lambda_{max}$"
   ]
  },
  {
   "cell_type": "code",
   "execution_count": 188,
   "metadata": {},
   "outputs": [
    {
     "name": "stdout",
     "output_type": "stream",
     "text": [
      "5.388222623461261\n"
     ]
    }
   ],
   "source": [
    "lambda_max_c5 = np.sum(val_b_c5) / total_option\n",
    "\n",
    "print(lambda_max_c5)"
   ]
  },
  {
   "cell_type": "markdown",
   "metadata": {},
   "source": [
    "### Menghitung Nilai Consistency Index (CI)"
   ]
  },
  {
   "cell_type": "code",
   "execution_count": 189,
   "metadata": {},
   "outputs": [
    {
     "name": "stdout",
     "output_type": "stream",
     "text": [
      "0.09705565586531528\n"
     ]
    }
   ],
   "source": [
    "consistency_index_c5 = (lambda_max_c5 - total_option) / (total_option - 1)\n",
    "\n",
    "print(consistency_index_c5)"
   ]
  },
  {
   "cell_type": "markdown",
   "metadata": {},
   "source": [
    "### Menghitung Nilai Consistency Ratio (CR)"
   ]
  },
  {
   "cell_type": "code",
   "execution_count": 190,
   "metadata": {},
   "outputs": [
    {
     "name": "stdout",
     "output_type": "stream",
     "text": [
      "0.08665683559403149\n"
     ]
    }
   ],
   "source": [
    "consistency_ratio_c5 = consistency_index_c5 / 1.12\n",
    "\n",
    "print(consistency_ratio_c5)"
   ]
  },
  {
   "cell_type": "markdown",
   "metadata": {},
   "source": [
    "# Pengambilan Keputusan"
   ]
  }
 ],
 "metadata": {
  "kernelspec": {
   "display_name": "Python 3",
   "language": "python",
   "name": "python3"
  },
  "language_info": {
   "codemirror_mode": {
    "name": "ipython",
    "version": 3
   },
   "file_extension": ".py",
   "mimetype": "text/x-python",
   "name": "python",
   "nbconvert_exporter": "python",
   "pygments_lexer": "ipython3",
   "version": "3.12.3"
  }
 },
 "nbformat": 4,
 "nbformat_minor": 2
}

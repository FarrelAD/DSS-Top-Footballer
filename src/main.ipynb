{
 "cells": [
  {
   "cell_type": "markdown",
   "metadata": {},
   "source": [
    "# Pendahuluan\n",
    "\n",
    "Tujuan: Menentukan pemain sepakbola terbaik di dunia berdasarkan kriteria-kriteria tertentu\n",
    "\n",
    "Daftar kriteria penentuan pemain sepakbola terbaik di dunia:\n",
    "\n",
    "- Konsistensi (C1)\n",
    "- Prestasi tim (C2)\n",
    "- Goal dan assist (C3)\n",
    "- Kepemimpinan (C4)\n",
    "- Prestasi individu (C5)\n",
    "\n",
    "\n",
    "Pilihan:\n",
    "1. Jude Bellingham - Real Madrid\n",
    "2. Erling Haaland - Manchester City\n",
    "3. Kylian Mbappe - Real Madrid\n",
    "4. Pedri - Barcelona\n",
    "5. Vinicius Jr. -  Real Madrid\n",
    "\n",
    "---"
   ]
  },
  {
   "cell_type": "code",
   "execution_count": 11,
   "metadata": {},
   "outputs": [],
   "source": [
    "import numpy as np"
   ]
  },
  {
   "cell_type": "markdown",
   "metadata": {},
   "source": [
    "Helper function untuk menampilkan input form pembuatan matriks"
   ]
  },
  {
   "cell_type": "code",
   "execution_count": null,
   "metadata": {},
   "outputs": [],
   "source": [
    "import numpy as np\n",
    "import ipywidgets as widgets\n",
    "from IPython.display import display\n",
    "\n",
    "def create_matrix_form(rows, cols):\n",
    "    # Generate labels (C1, C2, ...)\n",
    "    col_labels = [\"\"] + [f\"C{i+1}\" for i in range(cols)]\n",
    "    row_labels = [f\"C{i+1}\" for i in range(rows)]\n",
    "    \n",
    "    # Create input fields with diagonal elements pre-filled as 1\n",
    "    inputs = [[widgets.FloatText(value=(1 if r == c else 0), layout=widgets.Layout(width=\"50px\")) \n",
    "               for c in range(cols)] for r in range(rows)]\n",
    "\n",
    "    # Create the header row (Column Labels)\n",
    "    header_row = [widgets.Label(value=label, layout=widgets.Layout(width=\"50px\")) for label in col_labels]\n",
    "    \n",
    "    # Create rows with Row Labels and Input Fields\n",
    "    input_rows = []\n",
    "    for r in range(rows):\n",
    "        row_widgets = [widgets.Label(value=row_labels[r], layout=widgets.Layout(width=\"50px\"))] + inputs[r]\n",
    "        input_rows.append(widgets.HBox(row_widgets))\n",
    "\n",
    "    def get_matrix():\n",
    "        return np.array([[cell.value for cell in row] for row in inputs])\n",
    "        \n",
    "    def update_matrix(_):\n",
    "        \"\"\"Updates and prints the matrix when the button is clicked.\"\"\"\n",
    "        updated_matrix = get_matrix()\n",
    "        print(\"Updated Matrix:\")\n",
    "        print(updated_matrix)\n",
    "\n",
    "    set_matrix_btn = widgets.Button(description=\"Set Matrix!\")\n",
    "    set_matrix_btn.on_click(update_matrix)\n",
    "\n",
    "    display(widgets.HBox(header_row))\n",
    "    for row in input_rows:\n",
    "        display(row)\n",
    "    display(set_matrix_btn)\n",
    "    \n",
    "    return get_matrix"
   ]
  },
  {
   "cell_type": "markdown",
   "metadata": {},
   "source": [
    "# Penentuan CR Kriteria"
   ]
  },
  {
   "cell_type": "markdown",
   "metadata": {},
   "source": [
    "## Pembuatan Tabel Perbandingan"
   ]
  },
  {
   "cell_type": "code",
   "execution_count": null,
   "metadata": {},
   "outputs": [],
   "source": [
    "total_criteria = 5"
   ]
  },
  {
   "cell_type": "code",
   "execution_count": 179,
   "metadata": {},
   "outputs": [
    {
     "data": {
      "application/vnd.jupyter.widget-view+json": {
       "model_id": "6d7f307a4762465d92d432c30efe5683",
       "version_major": 2,
       "version_minor": 0
      },
      "text/plain": [
       "HBox(children=(Label(value='', layout=Layout(width='50px')), Label(value='C1', layout=Layout(width='50px')), L…"
      ]
     },
     "metadata": {},
     "output_type": "display_data"
    },
    {
     "data": {
      "application/vnd.jupyter.widget-view+json": {
       "model_id": "4217de0dc6a84185a176460f2bcc73b9",
       "version_major": 2,
       "version_minor": 0
      },
      "text/plain": [
       "HBox(children=(Label(value='C1', layout=Layout(width='50px')), FloatText(value=1.0, layout=Layout(width='50px'…"
      ]
     },
     "metadata": {},
     "output_type": "display_data"
    },
    {
     "data": {
      "application/vnd.jupyter.widget-view+json": {
       "model_id": "6062630f77d64046b503fdeb2e7435a3",
       "version_major": 2,
       "version_minor": 0
      },
      "text/plain": [
       "HBox(children=(Label(value='C2', layout=Layout(width='50px')), FloatText(value=0.0, layout=Layout(width='50px'…"
      ]
     },
     "metadata": {},
     "output_type": "display_data"
    },
    {
     "data": {
      "application/vnd.jupyter.widget-view+json": {
       "model_id": "eefa38a44c014ec98f73461d00e73caf",
       "version_major": 2,
       "version_minor": 0
      },
      "text/plain": [
       "HBox(children=(Label(value='C3', layout=Layout(width='50px')), FloatText(value=0.0, layout=Layout(width='50px'…"
      ]
     },
     "metadata": {},
     "output_type": "display_data"
    },
    {
     "data": {
      "application/vnd.jupyter.widget-view+json": {
       "model_id": "74a06eecf9634d42bcfc110a3568853a",
       "version_major": 2,
       "version_minor": 0
      },
      "text/plain": [
       "HBox(children=(Label(value='C4', layout=Layout(width='50px')), FloatText(value=0.0, layout=Layout(width='50px'…"
      ]
     },
     "metadata": {},
     "output_type": "display_data"
    },
    {
     "data": {
      "application/vnd.jupyter.widget-view+json": {
       "model_id": "ee1dadc7886f4a1ab5bd758089933992",
       "version_major": 2,
       "version_minor": 0
      },
      "text/plain": [
       "HBox(children=(Label(value='C5', layout=Layout(width='50px')), FloatText(value=0.0, layout=Layout(width='50px'…"
      ]
     },
     "metadata": {},
     "output_type": "display_data"
    },
    {
     "data": {
      "application/vnd.jupyter.widget-view+json": {
       "model_id": "f1a51d4127f6427da4eef8c9305f8d50",
       "version_major": 2,
       "version_minor": 0
      },
      "text/plain": [
       "Button(description='Set Matrix!', style=ButtonStyle())"
      ]
     },
     "metadata": {},
     "output_type": "display_data"
    },
    {
     "name": "stdout",
     "output_type": "stream",
     "text": [
      "Updated Matrix:\n",
      "[[1.   3.   0.5  5.   0.33]\n",
      " [0.33 1.   0.2  0.33 0.2 ]\n",
      " [2.   5.   1.   3.   0.33]\n",
      " [0.2  3.   0.33 1.   0.14]\n",
      " [3.   5.   3.   7.   1.  ]]\n"
     ]
    }
   ],
   "source": [
    "criteria_matrix = create_matrix_form(rows=total_criteria, cols=total_criteria)"
   ]
  },
  {
   "cell_type": "markdown",
   "metadata": {},
   "source": [
    "Perhitungan total pada masing-masing kolom kriteria"
   ]
  },
  {
   "cell_type": "code",
   "execution_count": 183,
   "metadata": {},
   "outputs": [
    {
     "name": "stdout",
     "output_type": "stream",
     "text": [
      "[ 6.53 17.    5.03 16.33  2.  ]\n"
     ]
    }
   ],
   "source": [
    "column_sums = np.sum(criteria_matrix(), axis=0)\n",
    "print(column_sums)"
   ]
  },
  {
   "cell_type": "markdown",
   "metadata": {},
   "source": [
    "## Proses Normalisasi Data"
   ]
  },
  {
   "cell_type": "code",
   "execution_count": 184,
   "metadata": {},
   "outputs": [
    {
     "name": "stdout",
     "output_type": "stream",
     "text": [
      "Matriks hasil normalisasi\n",
      "[[0.15313936 0.17647059 0.09940358 0.30618494 0.165     ]\n",
      " [0.05053599 0.05882353 0.03976143 0.02020821 0.1       ]\n",
      " [0.30627871 0.29411765 0.19880716 0.18371096 0.165     ]\n",
      " [0.03062787 0.17647059 0.06560636 0.06123699 0.07      ]\n",
      " [0.45941807 0.29411765 0.59642147 0.42865891 0.5       ]]\n",
      "\n",
      "Total pada tiap-tiap baris kriteria\n",
      "[0.90019846 0.26932915 1.14791448 0.40394181 2.2786161 ]\n",
      "\n",
      "Nilai rata-rata dari PW (Priority Weight)\n",
      "[0.18003969 0.05386583 0.2295829  0.08078836 0.45572322]\n"
     ]
    }
   ],
   "source": [
    "normalization_matrix = criteria_matrix() / column_sums\n",
    "\n",
    "print('Matriks hasil normalisasi')\n",
    "print(normalization_matrix)\n",
    "\n",
    "column_sums_normalization_matrix = np.sum(normalization_matrix, axis=1)\n",
    "print('\\nTotal pada tiap-tiap baris kriteria')\n",
    "print(column_sums_normalization_matrix)\n",
    "\n",
    "avg_priority_weights = column_sums_normalization_matrix / total_criteria\n",
    "print('\\nNilai rata-rata dari PW (Priority Weight)')\n",
    "print(avg_priority_weights)"
   ]
  },
  {
   "cell_type": "markdown",
   "metadata": {},
   "source": [
    "## Mengalikan Matriks dengan PW"
   ]
  },
  {
   "cell_type": "code",
   "execution_count": 185,
   "metadata": {},
   "outputs": [
    {
     "name": "stdout",
     "output_type": "stream",
     "text": [
      "[1.0107591  0.27700031 1.25174518 0.4179574  2.51943867]\n"
     ]
    }
   ],
   "source": [
    "new_matrix = criteria_matrix() @ avg_priority_weights\n",
    "\n",
    "print(new_matrix)"
   ]
  },
  {
   "cell_type": "code",
   "execution_count": 186,
   "metadata": {},
   "outputs": [
    {
     "name": "stdout",
     "output_type": "stream",
     "text": [
      "[5.61409039 5.14241231 5.452258   5.17348527 5.52844042]\n"
     ]
    }
   ],
   "source": [
    "val_b = new_matrix / avg_priority_weights\n",
    "print(val_b)"
   ]
  },
  {
   "cell_type": "markdown",
   "metadata": {},
   "source": [
    "## Menghitung Bobot Prioritas"
   ]
  },
  {
   "cell_type": "markdown",
   "metadata": {},
   "source": [
    "## Menghitung Nilai $\\lambda_{max}$"
   ]
  },
  {
   "cell_type": "code",
   "execution_count": 187,
   "metadata": {},
   "outputs": [
    {
     "name": "stdout",
     "output_type": "stream",
     "text": [
      "5.382137277934705\n"
     ]
    }
   ],
   "source": [
    "lambda_max = np.sum(val_b) / total_criteria\n",
    "\n",
    "print(lambda_max)"
   ]
  },
  {
   "cell_type": "markdown",
   "metadata": {},
   "source": [
    "## Menghitung Nilai Consistency Index (CI)"
   ]
  },
  {
   "cell_type": "code",
   "execution_count": 188,
   "metadata": {},
   "outputs": [
    {
     "name": "stdout",
     "output_type": "stream",
     "text": [
      "0.09553431948367619\n"
     ]
    }
   ],
   "source": [
    "consistency_index = (lambda_max - total_criteria) / (total_criteria - 1)\n",
    "\n",
    "print(consistency_index)"
   ]
  },
  {
   "cell_type": "markdown",
   "metadata": {},
   "source": [
    "## Perhitungan Consistency Ratio"
   ]
  },
  {
   "cell_type": "code",
   "execution_count": 189,
   "metadata": {},
   "outputs": [
    {
     "name": "stdout",
     "output_type": "stream",
     "text": [
      "0.08529849953899658\n"
     ]
    }
   ],
   "source": [
    "consistency_ratio = consistency_index / 1.12\n",
    "\n",
    "print(consistency_ratio)"
   ]
  },
  {
   "cell_type": "markdown",
   "metadata": {},
   "source": [
    "# Menghitung Perbandingan Pasangan untuk Setiap Alternatif/Pilihan pada Tiap Kriteria"
   ]
  },
  {
   "cell_type": "code",
   "execution_count": 219,
   "metadata": {},
   "outputs": [],
   "source": [
    "total_option = 5"
   ]
  },
  {
   "cell_type": "markdown",
   "metadata": {},
   "source": [
    "## Consistency Ratio (CR) kriteria **Konsistensi**"
   ]
  },
  {
   "cell_type": "markdown",
   "metadata": {},
   "source": [
    "### Pembuatan Tabel Perbandingan"
   ]
  },
  {
   "cell_type": "code",
   "execution_count": null,
   "metadata": {},
   "outputs": [
    {
     "data": {
      "application/vnd.jupyter.widget-view+json": {
       "model_id": "20ea34c51ad34a9cbea24e1ac46a1276",
       "version_major": 2,
       "version_minor": 0
      },
      "text/plain": [
       "HBox(children=(Label(value='', layout=Layout(width='50px')), Label(value='C1', layout=Layout(width='50px')), L…"
      ]
     },
     "metadata": {},
     "output_type": "display_data"
    },
    {
     "data": {
      "application/vnd.jupyter.widget-view+json": {
       "model_id": "6c5e0f27b47f4ed883c27518d808539b",
       "version_major": 2,
       "version_minor": 0
      },
      "text/plain": [
       "HBox(children=(Label(value='C1', layout=Layout(width='50px')), FloatText(value=1.0, layout=Layout(width='50px'…"
      ]
     },
     "metadata": {},
     "output_type": "display_data"
    },
    {
     "data": {
      "application/vnd.jupyter.widget-view+json": {
       "model_id": "3aa0c8bda0f5496399a684051f071a95",
       "version_major": 2,
       "version_minor": 0
      },
      "text/plain": [
       "HBox(children=(Label(value='C2', layout=Layout(width='50px')), FloatText(value=0.0, layout=Layout(width='50px'…"
      ]
     },
     "metadata": {},
     "output_type": "display_data"
    },
    {
     "data": {
      "application/vnd.jupyter.widget-view+json": {
       "model_id": "be72e0a42a5a4e3187ee927f8ca540f6",
       "version_major": 2,
       "version_minor": 0
      },
      "text/plain": [
       "HBox(children=(Label(value='C3', layout=Layout(width='50px')), FloatText(value=0.0, layout=Layout(width='50px'…"
      ]
     },
     "metadata": {},
     "output_type": "display_data"
    },
    {
     "data": {
      "application/vnd.jupyter.widget-view+json": {
       "model_id": "38d455edaab148189d6641d080aa2e2d",
       "version_major": 2,
       "version_minor": 0
      },
      "text/plain": [
       "HBox(children=(Label(value='C4', layout=Layout(width='50px')), FloatText(value=0.0, layout=Layout(width='50px'…"
      ]
     },
     "metadata": {},
     "output_type": "display_data"
    },
    {
     "data": {
      "application/vnd.jupyter.widget-view+json": {
       "model_id": "7c9c6d4592404fdab905613d7d31a7a7",
       "version_major": 2,
       "version_minor": 0
      },
      "text/plain": [
       "HBox(children=(Label(value='C5', layout=Layout(width='50px')), FloatText(value=0.0, layout=Layout(width='50px'…"
      ]
     },
     "metadata": {},
     "output_type": "display_data"
    },
    {
     "data": {
      "application/vnd.jupyter.widget-view+json": {
       "model_id": "880d54d647b74f9a8f99c0926f860448",
       "version_major": 2,
       "version_minor": 0
      },
      "text/plain": [
       "Button(description='Set Matrix!', style=ButtonStyle())"
      ]
     },
     "metadata": {},
     "output_type": "display_data"
    },
    {
     "name": "stdout",
     "output_type": "stream",
     "text": [
      "Updated Matrix:\n",
      "[[1.   0.5  3.   7.   5.  ]\n",
      " [2.   1.   3.   7.   5.  ]\n",
      " [0.33 0.33 1.   5.   2.  ]\n",
      " [0.14 0.14 0.2  1.   0.2 ]\n",
      " [0.2  0.2  0.5  5.   1.  ]]\n",
      "Updated Matrix:\n",
      "[[1.   0.5  3.   7.   5.  ]\n",
      " [2.   1.   3.   9.   5.  ]\n",
      " [0.33 0.33 1.   5.   2.  ]\n",
      " [0.14 0.11 0.2  1.   0.2 ]\n",
      " [0.2  0.2  0.5  5.   1.  ]]\n"
     ]
    }
   ],
   "source": [
    "c1_matrix = create_matrix_form(rows=total_option, cols=total_option)"
   ]
  },
  {
   "cell_type": "code",
   "execution_count": 213,
   "metadata": {},
   "outputs": [
    {
     "name": "stdout",
     "output_type": "stream",
     "text": [
      "[ 3.67  2.14  7.7  27.   13.2 ]\n"
     ]
    }
   ],
   "source": [
    "column_sums_c1 = np.sum(c1_matrix(), axis=0)\n",
    "print(column_sums_c1)"
   ]
  },
  {
   "cell_type": "markdown",
   "metadata": {},
   "source": [
    "### Proses Normalisasi Data"
   ]
  },
  {
   "cell_type": "code",
   "execution_count": 225,
   "metadata": {},
   "outputs": [
    {
     "name": "stdout",
     "output_type": "stream",
     "text": [
      "Matriks hasil normalisasi\n",
      "[[0.27247956 0.23364486 0.38961039 0.25925926 0.37878788]\n",
      " [0.54495913 0.46728972 0.38961039 0.33333333 0.37878788]\n",
      " [0.08991826 0.15420561 0.12987013 0.18518519 0.15151515]\n",
      " [0.03814714 0.05140187 0.02597403 0.03703704 0.01515152]\n",
      " [0.05449591 0.09345794 0.06493506 0.18518519 0.07575758]]\n",
      "\n",
      "Total pada tiap-tiap baris kriteria\n",
      "[1.53378195 2.11398045 0.71069433 0.16771159 0.47383168]\n",
      "\n",
      "Nilai rata-rata dari PW (Priority Weight)\n",
      "[0.30675639 0.42279609 0.14213887 0.03354232 0.09476634]\n"
     ]
    }
   ],
   "source": [
    "normalization_matrix_c1 = c1_matrix() / column_sums_c1\n",
    "\n",
    "print('Matriks hasil normalisasi')\n",
    "print(normalization_matrix_c1)\n",
    "\n",
    "column_sums_normalization_matrix_c1 = np.sum(normalization_matrix_c1, axis=1)\n",
    "print('\\nTotal pada tiap-tiap baris kriteria')\n",
    "print(column_sums_normalization_matrix_c1)\n",
    "\n",
    "avg_priority_weights_c1 = column_sums_normalization_matrix_c1 / total_option\n",
    "print('\\nNilai rata-rata dari PW (Priority Weight)')\n",
    "print(avg_priority_weights_c1)"
   ]
  },
  {
   "cell_type": "markdown",
   "metadata": {},
   "source": [
    "### Mengalikan Matriks dengan PW"
   ]
  },
  {
   "cell_type": "code",
   "execution_count": 221,
   "metadata": {},
   "outputs": [
    {
     "name": "stdout",
     "output_type": "stream",
     "text": [
      "[1.65319894 2.23843801 0.74013544 0.17037682 0.47945785]\n",
      "[5.38928932 5.29436781 5.20712923 5.07945891 5.05936886]\n"
     ]
    }
   ],
   "source": [
    "new_matrix_c1 = c1_matrix() @ avg_priority_weights_c1\n",
    "\n",
    "print(new_matrix_c1)\n",
    "\n",
    "val_b_c1 = new_matrix_c1 / avg_priority_weights_c1\n",
    "print(val_b_c1)"
   ]
  },
  {
   "cell_type": "markdown",
   "metadata": {},
   "source": [
    "### Menghitung Bobot Prioritas"
   ]
  },
  {
   "cell_type": "markdown",
   "metadata": {},
   "source": [
    "### Menghitung Nilai $\\lambda_{max}$"
   ]
  },
  {
   "cell_type": "code",
   "execution_count": 222,
   "metadata": {},
   "outputs": [
    {
     "name": "stdout",
     "output_type": "stream",
     "text": [
      "5.2059228239114095\n"
     ]
    }
   ],
   "source": [
    "lambda_max_c1 = np.sum(val_b_c1) / total_option\n",
    "\n",
    "print(lambda_max_c1)"
   ]
  },
  {
   "cell_type": "markdown",
   "metadata": {},
   "source": [
    "### Menghitung Nilai Consistency Index (CI)"
   ]
  },
  {
   "cell_type": "code",
   "execution_count": 223,
   "metadata": {},
   "outputs": [
    {
     "name": "stdout",
     "output_type": "stream",
     "text": [
      "0.05148070597785237\n"
     ]
    }
   ],
   "source": [
    "consistency_index_c1 = (lambda_max_c1 - total_option) / (total_option - 1)\n",
    "\n",
    "print(consistency_index_c1)"
   ]
  },
  {
   "cell_type": "markdown",
   "metadata": {},
   "source": [
    "### Menghitung Nilai Consistency Ratio (CR)"
   ]
  },
  {
   "cell_type": "code",
   "execution_count": 224,
   "metadata": {},
   "outputs": [
    {
     "name": "stdout",
     "output_type": "stream",
     "text": [
      "0.0459649160516539\n"
     ]
    }
   ],
   "source": [
    "consistency_ratio_c1 = consistency_index_c1 / 1.12\n",
    "\n",
    "print(consistency_ratio_c1)"
   ]
  },
  {
   "cell_type": "markdown",
   "metadata": {},
   "source": [
    "---"
   ]
  },
  {
   "cell_type": "markdown",
   "metadata": {},
   "source": [
    "## Consistency Ratio (CR) Kriteria **Prestasi Tim**"
   ]
  },
  {
   "cell_type": "markdown",
   "metadata": {},
   "source": [
    "### Pembuatan Tabel Perbandingan"
   ]
  },
  {
   "cell_type": "code",
   "execution_count": 227,
   "metadata": {},
   "outputs": [
    {
     "data": {
      "application/vnd.jupyter.widget-view+json": {
       "model_id": "216bb759f1594532b5141bd1a1486c2a",
       "version_major": 2,
       "version_minor": 0
      },
      "text/plain": [
       "HBox(children=(Label(value='', layout=Layout(width='50px')), Label(value='C1', layout=Layout(width='50px')), L…"
      ]
     },
     "metadata": {},
     "output_type": "display_data"
    },
    {
     "data": {
      "application/vnd.jupyter.widget-view+json": {
       "model_id": "15deb2d80e894f3a8fdf3b828e7d3c62",
       "version_major": 2,
       "version_minor": 0
      },
      "text/plain": [
       "HBox(children=(Label(value='C1', layout=Layout(width='50px')), FloatText(value=1.0, layout=Layout(width='50px'…"
      ]
     },
     "metadata": {},
     "output_type": "display_data"
    },
    {
     "data": {
      "application/vnd.jupyter.widget-view+json": {
       "model_id": "2bff67d12c6247029302d10d33eca217",
       "version_major": 2,
       "version_minor": 0
      },
      "text/plain": [
       "HBox(children=(Label(value='C2', layout=Layout(width='50px')), FloatText(value=0.0, layout=Layout(width='50px'…"
      ]
     },
     "metadata": {},
     "output_type": "display_data"
    },
    {
     "data": {
      "application/vnd.jupyter.widget-view+json": {
       "model_id": "63c0724bef624376b3ae5a942d1b9909",
       "version_major": 2,
       "version_minor": 0
      },
      "text/plain": [
       "HBox(children=(Label(value='C3', layout=Layout(width='50px')), FloatText(value=0.0, layout=Layout(width='50px'…"
      ]
     },
     "metadata": {},
     "output_type": "display_data"
    },
    {
     "data": {
      "application/vnd.jupyter.widget-view+json": {
       "model_id": "85cb114ab02d4cefb7093fabfd6a74a7",
       "version_major": 2,
       "version_minor": 0
      },
      "text/plain": [
       "HBox(children=(Label(value='C4', layout=Layout(width='50px')), FloatText(value=0.0, layout=Layout(width='50px'…"
      ]
     },
     "metadata": {},
     "output_type": "display_data"
    },
    {
     "data": {
      "application/vnd.jupyter.widget-view+json": {
       "model_id": "437039622ed4474199970f87a46f4d18",
       "version_major": 2,
       "version_minor": 0
      },
      "text/plain": [
       "HBox(children=(Label(value='C5', layout=Layout(width='50px')), FloatText(value=0.0, layout=Layout(width='50px'…"
      ]
     },
     "metadata": {},
     "output_type": "display_data"
    },
    {
     "data": {
      "application/vnd.jupyter.widget-view+json": {
       "model_id": "c475b40986a34e5dbdb73f914875ac09",
       "version_major": 2,
       "version_minor": 0
      },
      "text/plain": [
       "Button(description='Set Matrix!', style=ButtonStyle())"
      ]
     },
     "metadata": {},
     "output_type": "display_data"
    },
    {
     "name": "stdout",
     "output_type": "stream",
     "text": [
      "Updated Matrix:\n",
      "[[1.   5.   6.   7.   2.  ]\n",
      " [0.2  1.   3.   5.   0.5 ]\n",
      " [0.16 0.33 1.   3.   0.2 ]\n",
      " [0.14 0.2  0.3  1.   0.16]\n",
      " [0.5  2.   5.   6.   1.  ]]\n"
     ]
    }
   ],
   "source": [
    "c2_matrix = create_matrix_form(rows=total_option, cols=total_option)"
   ]
  },
  {
   "cell_type": "code",
   "execution_count": 228,
   "metadata": {},
   "outputs": [
    {
     "name": "stdout",
     "output_type": "stream",
     "text": [
      "[ 2.    8.53 15.3  22.    3.86]\n"
     ]
    }
   ],
   "source": [
    "column_sums_c2 = np.sum(c2_matrix(), axis=0)\n",
    "print(column_sums_c2)"
   ]
  },
  {
   "cell_type": "markdown",
   "metadata": {},
   "source": [
    "### Proses Normalisasi Data"
   ]
  },
  {
   "cell_type": "code",
   "execution_count": 229,
   "metadata": {},
   "outputs": [
    {
     "name": "stdout",
     "output_type": "stream",
     "text": [
      "Matriks hasil normalisasi\n",
      "[[0.5        0.58616647 0.39215686 0.31818182 0.51813472]\n",
      " [0.1        0.11723329 0.19607843 0.22727273 0.12953368]\n",
      " [0.08       0.03868699 0.06535948 0.13636364 0.05181347]\n",
      " [0.07       0.02344666 0.01960784 0.04545455 0.04145078]\n",
      " [0.25       0.23446659 0.32679739 0.27272727 0.25906736]]\n",
      "\n",
      "Total pada tiap-tiap baris kriteria\n",
      "[2.31463987 0.77011813 0.37222357 0.19995982 1.3430586 ]\n",
      "\n",
      "Nilai rata-rata dari PW (Priority Weight)\n",
      "[0.46292797 0.15402363 0.07444471 0.03999196 0.26861172]\n"
     ]
    }
   ],
   "source": [
    "normalization_matrix_c2 = c2_matrix() / column_sums_c2\n",
    "\n",
    "print('Matriks hasil normalisasi')\n",
    "print(normalization_matrix_c2)\n",
    "\n",
    "column_sums_normalization_matrix_c2 = np.sum(normalization_matrix_c2, axis=1)\n",
    "print('\\nTotal pada tiap-tiap baris kriteria')\n",
    "print(column_sums_normalization_matrix_c2)\n",
    "\n",
    "avg_priority_weights_c2 = column_sums_normalization_matrix_c2 / total_option\n",
    "print('\\nNilai rata-rata dari PW (Priority Weight)')\n",
    "print(avg_priority_weights_c2)"
   ]
  },
  {
   "cell_type": "markdown",
   "metadata": {},
   "source": [
    "### Mengalikan Matriks dengan PW"
   ]
  },
  {
   "cell_type": "code",
   "execution_count": 234,
   "metadata": {},
   "outputs": [
    {
     "name": "stdout",
     "output_type": "stream",
     "text": [
      "[2.49688159 0.80420905 0.37303923 0.2009179  1.42029832]\n",
      "[5.39367187 5.22133564 5.0109565  5.0239566  5.28755155]\n"
     ]
    }
   ],
   "source": [
    "new_matrix_c2 = c2_matrix() @ avg_priority_weights_c2\n",
    "\n",
    "print(new_matrix_c2)\n",
    "\n",
    "val_b_c2 = new_matrix_c2 / avg_priority_weights_c2\n",
    "print(val_b_c2)"
   ]
  },
  {
   "cell_type": "markdown",
   "metadata": {},
   "source": [
    "### Menghitung Bobot Prioritas"
   ]
  },
  {
   "cell_type": "markdown",
   "metadata": {},
   "source": [
    "### Menghitung Nilai $\\lambda_{max}$"
   ]
  },
  {
   "cell_type": "code",
   "execution_count": 231,
   "metadata": {},
   "outputs": [
    {
     "name": "stdout",
     "output_type": "stream",
     "text": [
      "5.187494432761653\n"
     ]
    }
   ],
   "source": [
    "lambda_max_c2 = np.sum(val_b_c2) / total_option\n",
    "\n",
    "print(lambda_max_c2)"
   ]
  },
  {
   "cell_type": "markdown",
   "metadata": {},
   "source": [
    "### Menghitung Nilai Consistency Index (CI)"
   ]
  },
  {
   "cell_type": "code",
   "execution_count": 232,
   "metadata": {},
   "outputs": [
    {
     "name": "stdout",
     "output_type": "stream",
     "text": [
      "0.04687360819041331\n"
     ]
    }
   ],
   "source": [
    "consistency_index_c2 = (lambda_max_c2 - total_option) / (total_option - 1)\n",
    "\n",
    "print(consistency_index_c2)"
   ]
  },
  {
   "cell_type": "markdown",
   "metadata": {},
   "source": [
    "### Menghitung Nilai Consistency Ratio (CR)"
   ]
  },
  {
   "cell_type": "code",
   "execution_count": 233,
   "metadata": {},
   "outputs": [
    {
     "name": "stdout",
     "output_type": "stream",
     "text": [
      "0.04185143588429759\n"
     ]
    }
   ],
   "source": [
    "consistency_ratio_c2 = consistency_index_c2 / 1.12\n",
    "\n",
    "print(consistency_ratio_c2)"
   ]
  },
  {
   "cell_type": "markdown",
   "metadata": {},
   "source": [
    "## Consistency Ratio (CR) Kriteria **Goal & Assist**"
   ]
  },
  {
   "cell_type": "markdown",
   "metadata": {},
   "source": [
    "### Pembuatan Tabel Perbandingan"
   ]
  },
  {
   "cell_type": "markdown",
   "metadata": {},
   "source": [
    "### Proses Normalisasi Data"
   ]
  },
  {
   "cell_type": "markdown",
   "metadata": {},
   "source": [
    "### Mengalikan Matriks dengan PW"
   ]
  },
  {
   "cell_type": "markdown",
   "metadata": {},
   "source": [
    "### Menghitung Bobot Prioritas"
   ]
  },
  {
   "cell_type": "markdown",
   "metadata": {},
   "source": [
    "### Menghitung Nilai $\\lambda_{max}$"
   ]
  },
  {
   "cell_type": "markdown",
   "metadata": {},
   "source": [
    "### Menghitung Nilai Consistency Index (CI)"
   ]
  },
  {
   "cell_type": "markdown",
   "metadata": {},
   "source": [
    "### Menghitung Nilai Consistency Ratio (CR)"
   ]
  },
  {
   "cell_type": "markdown",
   "metadata": {},
   "source": [
    "## Consistency Ratio (CR) Kriteria **Kepemimpinan**"
   ]
  },
  {
   "cell_type": "markdown",
   "metadata": {},
   "source": [
    "### Pembuatan Tabel Perbandingan"
   ]
  },
  {
   "cell_type": "markdown",
   "metadata": {},
   "source": [
    "### Proses Normalisasi Data"
   ]
  },
  {
   "cell_type": "markdown",
   "metadata": {},
   "source": [
    "### Mengalikan Matriks dengan PW"
   ]
  },
  {
   "cell_type": "markdown",
   "metadata": {},
   "source": [
    "### Menghitung Bobot Prioritas"
   ]
  },
  {
   "cell_type": "markdown",
   "metadata": {},
   "source": [
    "### Menghitung Nilai $\\lambda_{max}$"
   ]
  },
  {
   "cell_type": "markdown",
   "metadata": {},
   "source": [
    "### Menghitung Nilai Consistency Index (CI)"
   ]
  },
  {
   "cell_type": "markdown",
   "metadata": {},
   "source": [
    "### Menghitung Nilai Consistency Ratio (CR)"
   ]
  },
  {
   "cell_type": "markdown",
   "metadata": {},
   "source": [
    "## Consistency Ratio (CR) Kriteria **Prestasi Individu**"
   ]
  },
  {
   "cell_type": "markdown",
   "metadata": {},
   "source": [
    "### Pembuatan Tabel Perbandingan"
   ]
  },
  {
   "cell_type": "markdown",
   "metadata": {},
   "source": [
    "### Proses Normalisasi Data"
   ]
  },
  {
   "cell_type": "markdown",
   "metadata": {},
   "source": [
    "### Mengalikan Matriks dengan PW"
   ]
  },
  {
   "cell_type": "markdown",
   "metadata": {},
   "source": [
    "### Menghitung Bobot Prioritas"
   ]
  },
  {
   "cell_type": "markdown",
   "metadata": {},
   "source": [
    "### Menghitung Nilai $\\lambda_{max}$"
   ]
  },
  {
   "cell_type": "markdown",
   "metadata": {},
   "source": [
    "### Menghitung Nilai Consistency Index (CI)"
   ]
  },
  {
   "cell_type": "markdown",
   "metadata": {},
   "source": [
    "### Menghitung Nilai Consistency Ratio (CR)"
   ]
  },
  {
   "cell_type": "markdown",
   "metadata": {},
   "source": [
    "# Pengambilan Keputusan"
   ]
  }
 ],
 "metadata": {
  "kernelspec": {
   "display_name": "Python 3",
   "language": "python",
   "name": "python3"
  },
  "language_info": {
   "codemirror_mode": {
    "name": "ipython",
    "version": 3
   },
   "file_extension": ".py",
   "mimetype": "text/x-python",
   "name": "python",
   "nbconvert_exporter": "python",
   "pygments_lexer": "ipython3",
   "version": "3.12.3"
  }
 },
 "nbformat": 4,
 "nbformat_minor": 2
}
